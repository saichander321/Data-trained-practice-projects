{
 "cells": [
  {
   "cell_type": "code",
   "execution_count": 2,
   "metadata": {},
   "outputs": [],
   "source": [
    "import pandas as pd\n",
    "import numpy as np\n",
    "import matplotlib.pyplot as plt\n",
    "import seaborn as sns\n",
    "import warnings\n",
    "import re\n",
    "warnings.filterwarnings('ignore')"
   ]
  },
  {
   "cell_type": "code",
   "execution_count": null,
   "metadata": {},
   "outputs": [],
   "source": []
  },
  {
   "cell_type": "code",
   "execution_count": 3,
   "metadata": {},
   "outputs": [
    {
     "name": "stdout",
     "output_type": "stream",
     "text": [
      "['Final_Test.xlsx', 'Final_Train.xlsx', 'Sample_submission.xlsx']\n"
     ]
    }
   ],
   "source": [
    "import os\n",
    "print(os.listdir('C:/Users/SAI/Desktop/Final Participant Data Folder'))"
   ]
  },
  {
   "cell_type": "code",
   "execution_count": 4,
   "metadata": {},
   "outputs": [],
   "source": [
    "train = pd.read_excel('C:/Users/SAI/Desktop/Final Participant Data Folder/Final_Train.xlsx')\n",
    "test = pd.read_excel('C:/Users/SAI/Desktop/Final Participant Data Folder/Final_Test.xlsx')"
   ]
  },
  {
   "cell_type": "code",
   "execution_count": 5,
   "metadata": {},
   "outputs": [
    {
     "data": {
      "text/html": [
       "<div>\n",
       "<style scoped>\n",
       "    .dataframe tbody tr th:only-of-type {\n",
       "        vertical-align: middle;\n",
       "    }\n",
       "\n",
       "    .dataframe tbody tr th {\n",
       "        vertical-align: top;\n",
       "    }\n",
       "\n",
       "    .dataframe thead th {\n",
       "        text-align: right;\n",
       "    }\n",
       "</style>\n",
       "<table border=\"1\" class=\"dataframe\">\n",
       "  <thead>\n",
       "    <tr style=\"text-align: right;\">\n",
       "      <th></th>\n",
       "      <th>Qualification</th>\n",
       "      <th>Experience</th>\n",
       "      <th>Rating</th>\n",
       "      <th>Place</th>\n",
       "      <th>Profile</th>\n",
       "      <th>Miscellaneous_Info</th>\n",
       "      <th>Fees</th>\n",
       "    </tr>\n",
       "  </thead>\n",
       "  <tbody>\n",
       "    <tr>\n",
       "      <th>0</th>\n",
       "      <td>BHMS, MD - Homeopathy</td>\n",
       "      <td>24 years experience</td>\n",
       "      <td>100%</td>\n",
       "      <td>Kakkanad, Ernakulam</td>\n",
       "      <td>Homeopath</td>\n",
       "      <td>100% 16 Feedback Kakkanad, Ernakulam</td>\n",
       "      <td>100</td>\n",
       "    </tr>\n",
       "    <tr>\n",
       "      <th>1</th>\n",
       "      <td>BAMS, MD - Ayurveda Medicine</td>\n",
       "      <td>12 years experience</td>\n",
       "      <td>98%</td>\n",
       "      <td>Whitefield, Bangalore</td>\n",
       "      <td>Ayurveda</td>\n",
       "      <td>98% 76 Feedback Whitefield, Bangalore</td>\n",
       "      <td>350</td>\n",
       "    </tr>\n",
       "    <tr>\n",
       "      <th>2</th>\n",
       "      <td>MBBS, MS - Otorhinolaryngology</td>\n",
       "      <td>9 years experience</td>\n",
       "      <td>NaN</td>\n",
       "      <td>Mathikere - BEL, Bangalore</td>\n",
       "      <td>ENT Specialist</td>\n",
       "      <td>NaN</td>\n",
       "      <td>300</td>\n",
       "    </tr>\n",
       "    <tr>\n",
       "      <th>3</th>\n",
       "      <td>BSc - Zoology, BAMS</td>\n",
       "      <td>12 years experience</td>\n",
       "      <td>NaN</td>\n",
       "      <td>Bannerghatta Road, Bangalore</td>\n",
       "      <td>Ayurveda</td>\n",
       "      <td>Bannerghatta Road, Bangalore ₹250 Available on...</td>\n",
       "      <td>250</td>\n",
       "    </tr>\n",
       "    <tr>\n",
       "      <th>4</th>\n",
       "      <td>BAMS</td>\n",
       "      <td>20 years experience</td>\n",
       "      <td>100%</td>\n",
       "      <td>Keelkattalai, Chennai</td>\n",
       "      <td>Ayurveda</td>\n",
       "      <td>100% 4 Feedback Keelkattalai, Chennai</td>\n",
       "      <td>250</td>\n",
       "    </tr>\n",
       "  </tbody>\n",
       "</table>\n",
       "</div>"
      ],
      "text/plain": [
       "                    Qualification           Experience Rating  \\\n",
       "0           BHMS, MD - Homeopathy  24 years experience   100%   \n",
       "1    BAMS, MD - Ayurveda Medicine  12 years experience    98%   \n",
       "2  MBBS, MS - Otorhinolaryngology   9 years experience    NaN   \n",
       "3             BSc - Zoology, BAMS  12 years experience    NaN   \n",
       "4                            BAMS  20 years experience   100%   \n",
       "\n",
       "                          Place         Profile  \\\n",
       "0           Kakkanad, Ernakulam       Homeopath   \n",
       "1         Whitefield, Bangalore        Ayurveda   \n",
       "2    Mathikere - BEL, Bangalore  ENT Specialist   \n",
       "3  Bannerghatta Road, Bangalore        Ayurveda   \n",
       "4         Keelkattalai, Chennai        Ayurveda   \n",
       "\n",
       "                                  Miscellaneous_Info  Fees  \n",
       "0               100% 16 Feedback Kakkanad, Ernakulam   100  \n",
       "1              98% 76 Feedback Whitefield, Bangalore   350  \n",
       "2                                                NaN   300  \n",
       "3  Bannerghatta Road, Bangalore ₹250 Available on...   250  \n",
       "4              100% 4 Feedback Keelkattalai, Chennai   250  "
      ]
     },
     "execution_count": 5,
     "metadata": {},
     "output_type": "execute_result"
    }
   ],
   "source": [
    "train.head()"
   ]
  },
  {
   "cell_type": "code",
   "execution_count": 6,
   "metadata": {},
   "outputs": [
    {
     "name": "stdout",
     "output_type": "stream",
     "text": [
      "<class 'pandas.core.frame.DataFrame'>\n",
      "RangeIndex: 5961 entries, 0 to 5960\n",
      "Data columns (total 7 columns):\n",
      " #   Column              Non-Null Count  Dtype \n",
      "---  ------              --------------  ----- \n",
      " 0   Qualification       5961 non-null   object\n",
      " 1   Experience          5961 non-null   object\n",
      " 2   Rating              2659 non-null   object\n",
      " 3   Place               5936 non-null   object\n",
      " 4   Profile             5961 non-null   object\n",
      " 5   Miscellaneous_Info  3341 non-null   object\n",
      " 6   Fees                5961 non-null   int64 \n",
      "dtypes: int64(1), object(6)\n",
      "memory usage: 326.1+ KB\n"
     ]
    }
   ],
   "source": [
    "train.info()"
   ]
  },
  {
   "cell_type": "code",
   "execution_count": 7,
   "metadata": {},
   "outputs": [
    {
     "data": {
      "text/plain": [
       "Qualification          0.00\n",
       "Experience             0.00\n",
       "Rating                55.39\n",
       "Place                  0.42\n",
       "Profile                0.00\n",
       "Miscellaneous_Info    43.95\n",
       "Fees                   0.00\n",
       "dtype: float64"
      ]
     },
     "execution_count": 7,
     "metadata": {},
     "output_type": "execute_result"
    }
   ],
   "source": [
    "# check for null values\n",
    "round(train.isnull().sum()/len(train) * 100,2)"
   ]
  },
  {
   "cell_type": "code",
   "execution_count": null,
   "metadata": {},
   "outputs": [],
   "source": []
  },
  {
   "cell_type": "markdown",
   "metadata": {},
   "source": [
    "EDA"
   ]
  },
  {
   "cell_type": "markdown",
   "metadata": {},
   "source": [
    "Converting Experience column from string by taking only numerical age value from data"
   ]
  },
  {
   "cell_type": "code",
   "execution_count": 8,
   "metadata": {},
   "outputs": [],
   "source": [
    "train['Experience'] = train['Experience'].str.split().str[0]\n",
    "train['Experience'] = train['Experience'].astype(int)"
   ]
  },
  {
   "cell_type": "code",
   "execution_count": 9,
   "metadata": {},
   "outputs": [
    {
     "data": {
      "text/html": [
       "<div>\n",
       "<style scoped>\n",
       "    .dataframe tbody tr th:only-of-type {\n",
       "        vertical-align: middle;\n",
       "    }\n",
       "\n",
       "    .dataframe tbody tr th {\n",
       "        vertical-align: top;\n",
       "    }\n",
       "\n",
       "    .dataframe thead th {\n",
       "        text-align: right;\n",
       "    }\n",
       "</style>\n",
       "<table border=\"1\" class=\"dataframe\">\n",
       "  <thead>\n",
       "    <tr style=\"text-align: right;\">\n",
       "      <th></th>\n",
       "      <th>Qualification</th>\n",
       "      <th>Experience</th>\n",
       "      <th>Rating</th>\n",
       "      <th>Place</th>\n",
       "      <th>Profile</th>\n",
       "      <th>Miscellaneous_Info</th>\n",
       "      <th>Fees</th>\n",
       "    </tr>\n",
       "  </thead>\n",
       "  <tbody>\n",
       "    <tr>\n",
       "      <th>0</th>\n",
       "      <td>BHMS, MD - Homeopathy</td>\n",
       "      <td>24</td>\n",
       "      <td>100%</td>\n",
       "      <td>Kakkanad, Ernakulam</td>\n",
       "      <td>Homeopath</td>\n",
       "      <td>100% 16 Feedback Kakkanad, Ernakulam</td>\n",
       "      <td>100</td>\n",
       "    </tr>\n",
       "    <tr>\n",
       "      <th>1</th>\n",
       "      <td>BAMS, MD - Ayurveda Medicine</td>\n",
       "      <td>12</td>\n",
       "      <td>98%</td>\n",
       "      <td>Whitefield, Bangalore</td>\n",
       "      <td>Ayurveda</td>\n",
       "      <td>98% 76 Feedback Whitefield, Bangalore</td>\n",
       "      <td>350</td>\n",
       "    </tr>\n",
       "    <tr>\n",
       "      <th>2</th>\n",
       "      <td>MBBS, MS - Otorhinolaryngology</td>\n",
       "      <td>9</td>\n",
       "      <td>NaN</td>\n",
       "      <td>Mathikere - BEL, Bangalore</td>\n",
       "      <td>ENT Specialist</td>\n",
       "      <td>NaN</td>\n",
       "      <td>300</td>\n",
       "    </tr>\n",
       "    <tr>\n",
       "      <th>3</th>\n",
       "      <td>BSc - Zoology, BAMS</td>\n",
       "      <td>12</td>\n",
       "      <td>NaN</td>\n",
       "      <td>Bannerghatta Road, Bangalore</td>\n",
       "      <td>Ayurveda</td>\n",
       "      <td>Bannerghatta Road, Bangalore ₹250 Available on...</td>\n",
       "      <td>250</td>\n",
       "    </tr>\n",
       "    <tr>\n",
       "      <th>4</th>\n",
       "      <td>BAMS</td>\n",
       "      <td>20</td>\n",
       "      <td>100%</td>\n",
       "      <td>Keelkattalai, Chennai</td>\n",
       "      <td>Ayurveda</td>\n",
       "      <td>100% 4 Feedback Keelkattalai, Chennai</td>\n",
       "      <td>250</td>\n",
       "    </tr>\n",
       "  </tbody>\n",
       "</table>\n",
       "</div>"
      ],
      "text/plain": [
       "                    Qualification  Experience Rating  \\\n",
       "0           BHMS, MD - Homeopathy          24   100%   \n",
       "1    BAMS, MD - Ayurveda Medicine          12    98%   \n",
       "2  MBBS, MS - Otorhinolaryngology           9    NaN   \n",
       "3             BSc - Zoology, BAMS          12    NaN   \n",
       "4                            BAMS          20   100%   \n",
       "\n",
       "                          Place         Profile  \\\n",
       "0           Kakkanad, Ernakulam       Homeopath   \n",
       "1         Whitefield, Bangalore        Ayurveda   \n",
       "2    Mathikere - BEL, Bangalore  ENT Specialist   \n",
       "3  Bannerghatta Road, Bangalore        Ayurveda   \n",
       "4         Keelkattalai, Chennai        Ayurveda   \n",
       "\n",
       "                                  Miscellaneous_Info  Fees  \n",
       "0               100% 16 Feedback Kakkanad, Ernakulam   100  \n",
       "1              98% 76 Feedback Whitefield, Bangalore   350  \n",
       "2                                                NaN   300  \n",
       "3  Bannerghatta Road, Bangalore ₹250 Available on...   250  \n",
       "4              100% 4 Feedback Keelkattalai, Chennai   250  "
      ]
     },
     "execution_count": 9,
     "metadata": {},
     "output_type": "execute_result"
    }
   ],
   "source": [
    "train.head()"
   ]
  },
  {
   "cell_type": "markdown",
   "metadata": {},
   "source": [
    "Now Analysing the Rating column"
   ]
  },
  {
   "cell_type": "markdown",
   "metadata": {},
   "source": [
    "We can see there are more than 50 % missing values in rating column,"
   ]
  },
  {
   "cell_type": "code",
   "execution_count": 10,
   "metadata": {},
   "outputs": [],
   "source": [
    "train['Rating'].fillna('-99%',inplace=True)"
   ]
  },
  {
   "cell_type": "markdown",
   "metadata": {},
   "source": [
    "Making the Rating from percentage to 0,1,2 by setting them into bins and using pd.cut"
   ]
  },
  {
   "cell_type": "code",
   "execution_count": 11,
   "metadata": {},
   "outputs": [],
   "source": [
    "train['Rating'] = train['Rating'].str.slice(stop=-1).astype(int) #taking the str without %"
   ]
  },
  {
   "cell_type": "code",
   "execution_count": 12,
   "metadata": {},
   "outputs": [
    {
     "name": "stdout",
     "output_type": "stream",
     "text": [
      "0-9%  1\n",
      "10-19%  0\n",
      "20-29%  0\n",
      "30-39%  3\n",
      "And so-on..\n"
     ]
    }
   ],
   "source": [
    "print(\"0-9% \",len(train[(train['Rating']>0) & (train['Rating']<10)]))\n",
    "print(\"10-19% \",len(train[(train['Rating']>=10) & (train['Rating']<20)]))\n",
    "print(\"20-29% \",len(train[(train['Rating']>=20) & (train['Rating']<30)]))\n",
    "print(\"30-39% \",len(train[(train['Rating']>=30) & (train['Rating']<40)]))\n",
    "print(\"And so-on..\")"
   ]
  },
  {
   "cell_type": "code",
   "execution_count": 13,
   "metadata": {},
   "outputs": [],
   "source": [
    "bins = [-99,0,10,20,30,40,50,60,70,80,90,100]\n",
    "labels = [i for i in range(11)]\n",
    "train['Rating'] = pd.cut(train['Rating'], bins=bins, labels=labels, include_lowest=True)"
   ]
  },
  {
   "cell_type": "markdown",
   "metadata": {},
   "source": [
    "Now we have converted (-99 to 0) as 0,(0 to 10) as 1 and so on . We can see the the value counts "
   ]
  },
  {
   "cell_type": "code",
   "execution_count": 14,
   "metadata": {},
   "outputs": [
    {
     "data": {
      "text/plain": [
       "0     3302\n",
       "1        1\n",
       "2        0\n",
       "3        0\n",
       "4        4\n",
       "5        3\n",
       "6       19\n",
       "7       32\n",
       "8       98\n",
       "9      280\n",
       "10    2222\n",
       "Name: Rating, dtype: int64"
      ]
     },
     "execution_count": 14,
     "metadata": {},
     "output_type": "execute_result"
    }
   ],
   "source": [
    "train['Rating'].value_counts().sort_index()"
   ]
  },
  {
   "cell_type": "markdown",
   "metadata": {},
   "source": [
    "We can Transform the Place column into city and area to get clear analysis with the column."
   ]
  },
  {
   "cell_type": "markdown",
   "metadata": {},
   "source": [
    "Removing null values from place"
   ]
  },
  {
   "cell_type": "code",
   "execution_count": 15,
   "metadata": {},
   "outputs": [],
   "source": [
    "train.Place.fillna('Unknown,Unknown',inplace=True)"
   ]
  },
  {
   "cell_type": "markdown",
   "metadata": {},
   "source": [
    "Spliting the place into city and area"
   ]
  },
  {
   "cell_type": "code",
   "execution_count": 16,
   "metadata": {},
   "outputs": [],
   "source": [
    "train['area'] = train['Place'].str.split(\",\").str[0]\n",
    "train['city'] = train['Place'].str.split(\",\").str[1]"
   ]
  },
  {
   "cell_type": "code",
   "execution_count": 17,
   "metadata": {},
   "outputs": [],
   "source": [
    "#using re to remove spaces\n",
    "train['city'] = train['city'].apply(lambda x: re.sub(' +','',str(x)))"
   ]
  },
  {
   "cell_type": "code",
   "execution_count": 18,
   "metadata": {},
   "outputs": [
    {
     "data": {
      "text/plain": [
       "Bangalore             1258\n",
       "Mumbai                1219\n",
       "Delhi                 1184\n",
       "Hyderabad              951\n",
       "Chennai                855\n",
       "Coimbatore             228\n",
       "Ernakulam              153\n",
       "Thiruvananthapuram      86\n",
       "Unknown                 25\n",
       "Sector5                  1\n",
       "nan                      1\n",
       "Name: city, dtype: int64"
      ]
     },
     "execution_count": 18,
     "metadata": {},
     "output_type": "execute_result"
    }
   ],
   "source": [
    "train['city'].value_counts()"
   ]
  },
  {
   "cell_type": "markdown",
   "metadata": {},
   "source": [
    "There is no city as Sector 5 so lets correct it to Delhi ."
   ]
  },
  {
   "cell_type": "code",
   "execution_count": 19,
   "metadata": {},
   "outputs": [
    {
     "data": {
      "text/html": [
       "<div>\n",
       "<style scoped>\n",
       "    .dataframe tbody tr th:only-of-type {\n",
       "        vertical-align: middle;\n",
       "    }\n",
       "\n",
       "    .dataframe tbody tr th {\n",
       "        vertical-align: top;\n",
       "    }\n",
       "\n",
       "    .dataframe thead th {\n",
       "        text-align: right;\n",
       "    }\n",
       "</style>\n",
       "<table border=\"1\" class=\"dataframe\">\n",
       "  <thead>\n",
       "    <tr style=\"text-align: right;\">\n",
       "      <th></th>\n",
       "      <th>Qualification</th>\n",
       "      <th>Experience</th>\n",
       "      <th>Rating</th>\n",
       "      <th>Place</th>\n",
       "      <th>Profile</th>\n",
       "      <th>Miscellaneous_Info</th>\n",
       "      <th>Fees</th>\n",
       "      <th>area</th>\n",
       "      <th>city</th>\n",
       "    </tr>\n",
       "  </thead>\n",
       "  <tbody>\n",
       "    <tr>\n",
       "      <th>2169</th>\n",
       "      <td>BDS</td>\n",
       "      <td>11</td>\n",
       "      <td>0</td>\n",
       "      <td>Dwarka, Sector 5, Delhi</td>\n",
       "      <td>Dentist</td>\n",
       "      <td>NaN</td>\n",
       "      <td>250</td>\n",
       "      <td>Dwarka</td>\n",
       "      <td>Sector5</td>\n",
       "    </tr>\n",
       "    <tr>\n",
       "      <th>3980</th>\n",
       "      <td>BDS</td>\n",
       "      <td>23</td>\n",
       "      <td>0</td>\n",
       "      <td>e</td>\n",
       "      <td>Dentist</td>\n",
       "      <td>NaN</td>\n",
       "      <td>250</td>\n",
       "      <td>e</td>\n",
       "      <td>nan</td>\n",
       "    </tr>\n",
       "  </tbody>\n",
       "</table>\n",
       "</div>"
      ],
      "text/plain": [
       "     Qualification  Experience Rating                    Place  Profile  \\\n",
       "2169           BDS          11      0  Dwarka, Sector 5, Delhi  Dentist   \n",
       "3980           BDS          23      0                        e  Dentist   \n",
       "\n",
       "     Miscellaneous_Info  Fees    area     city  \n",
       "2169                NaN   250  Dwarka  Sector5  \n",
       "3980                NaN   250       e      nan  "
      ]
     },
     "execution_count": 19,
     "metadata": {},
     "output_type": "execute_result"
    }
   ],
   "source": [
    "# city contains some improper data.\n",
    "train[(train['city'] == \"nan\") | (train['city'] == \"Sector5\")]"
   ]
  },
  {
   "cell_type": "code",
   "execution_count": 20,
   "metadata": {},
   "outputs": [],
   "source": [
    "train['city'] = np.where(train['city']==\"Sector5\",\"Delhi\", train['city'])"
   ]
  },
  {
   "cell_type": "code",
   "execution_count": 21,
   "metadata": {},
   "outputs": [],
   "source": [
    "#Removing Nan\n",
    "train['city'].loc[3980] = \"Unknown\""
   ]
  },
  {
   "cell_type": "code",
   "execution_count": 22,
   "metadata": {},
   "outputs": [
    {
     "data": {
      "text/plain": [
       "Bangalore             1258\n",
       "Mumbai                1219\n",
       "Delhi                 1185\n",
       "Hyderabad              951\n",
       "Chennai                855\n",
       "Coimbatore             228\n",
       "Ernakulam              153\n",
       "Thiruvananthapuram      86\n",
       "Unknown                 26\n",
       "Name: city, dtype: int64"
      ]
     },
     "execution_count": 22,
     "metadata": {},
     "output_type": "execute_result"
    }
   ],
   "source": [
    "train['city'].value_counts()"
   ]
  },
  {
   "cell_type": "code",
   "execution_count": 23,
   "metadata": {},
   "outputs": [
    {
     "data": {
      "text/plain": [
       "HSR Layout          75\n",
       "Andheri West        70\n",
       "Dwarka              68\n",
       "Banjara Hills       64\n",
       "Mulund West         54\n",
       "                    ..\n",
       "Austin Town          1\n",
       "GTB Nagar            1\n",
       "Indirapuram          1\n",
       "JP Nagar 4 Phase     1\n",
       "Thevara              1\n",
       "Name: area, Length: 867, dtype: int64"
      ]
     },
     "execution_count": 23,
     "metadata": {},
     "output_type": "execute_result"
    }
   ],
   "source": [
    "train['area'].value_counts()"
   ]
  },
  {
   "cell_type": "code",
   "execution_count": 24,
   "metadata": {},
   "outputs": [],
   "source": [
    "#As we have made place into city and area we can drop the place column\n",
    "train.drop('Place',axis=1,inplace=True)"
   ]
  },
  {
   "cell_type": "markdown",
   "metadata": {},
   "source": [
    "Coming to Qualification column we can see that there are data containing multiple degrees like MBBS,MD.\n",
    "The Data present is also having detailed info which is not useful to the model.\n",
    "so lets make the data shorter considering only the degress"
   ]
  },
  {
   "cell_type": "code",
   "execution_count": 25,
   "metadata": {},
   "outputs": [
    {
     "data": {
      "text/plain": [
       "2     2628\n",
       "1     1962\n",
       "3      995\n",
       "4      257\n",
       "5       84\n",
       "6       23\n",
       "7        6\n",
       "9        3\n",
       "8        2\n",
       "10       1\n",
       "Name: Qualification_count, dtype: int64"
      ]
     },
     "execution_count": 25,
     "metadata": {},
     "output_type": "execute_result"
    }
   ],
   "source": [
    "train['Qualification_count'] = train['Qualification'].apply(lambda x: len(x.split(\",\")))\n",
    "train['Qualification_count'].value_counts()"
   ]
  },
  {
   "cell_type": "markdown",
   "metadata": {},
   "source": [
    "We can see that there are more number of doctors having 2 degrees"
   ]
  },
  {
   "cell_type": "code",
   "execution_count": 26,
   "metadata": {},
   "outputs": [
    {
     "data": {
      "text/plain": [
       "array(['BHMS, MD - Homeopathy', 'BAMS, MD - Ayurveda Medicine',\n",
       "       'MBBS, MS - Otorhinolaryngology', ...,\n",
       "       'MD - Dermatology , Venereology & Leprosy, MBBS, Fellowship In Dermatosurgery',\n",
       "       'BDS, certification in smile designing',\n",
       "       'MD - Homeopathy, Post Graduate Diploma in Healthcare Management(PGDHM), DHMS (Diploma in Homeopathic Medicine and Surgery)'],\n",
       "      dtype=object)"
      ]
     },
     "execution_count": 26,
     "metadata": {},
     "output_type": "execute_result"
    }
   ],
   "source": [
    "train['Qualification'].unique()"
   ]
  },
  {
   "cell_type": "code",
   "execution_count": 27,
   "metadata": {},
   "outputs": [
    {
     "name": "stdout",
     "output_type": "stream",
     "text": [
      "{'BHMS': 749, 'MD - Homeopathy': 181, 'BAMS': 764, 'MD - Ayurveda Medicine': 139, 'MBBS': 2808, 'MS - Otorhinolaryngology': 103, 'BSc - Zoology': 3, 'BDS': 1363, 'MD - General Medicine': 285, 'BSc': 3, 'MS': 2, 'DNB - ENT': 111, 'MDS': 82, 'MDS - Oral & Maxillofacial Surgery': 104, 'Diploma in Otorhinolaryngology (DLO)': 250, 'MF- Homeopathy': 5, 'MS - ENT': 411, 'DNB': 58, 'Fellowship of College of General Practice (FCGP)': 13, 'DDVL': 161, 'IBCLC (USA)': 1, 'Post Graduate Diploma in Diabetology (PGDD)': 53, 'Diploma in Dermatology': 67, 'Fellowship in Aesthetic Medicine': 23, 'DM - Neurology': 6, 'MD - Pediatrics': 13, 'Fellowship in Cleft Lip and Craniofacial Surgery': 1, 'Diploma in Cosmetology': 3, 'AFIH': 4, 'MDS - Prosthodontist And Crown Bridge': 45, 'M. D. Hom. (Practice of Medicine)': 2, 'Diploma in Emergency Medicine': 8, 'Diploma in Counselling Skills': 2, 'DHMS (Diploma in Homeopathic Medicine and Surgery)': 47, 'MD - Dermatology': 606, 'Venereology & Leprosy': 297, 'MDS - Oral and Maxillofacial Pathology': 1, 'MFDS RCS': 4, 'MRCS (UK)': 15, 'FRGUHS': 22, 'Fellowship in Dermatological Laser Surgery': 10, 'Member of the Royal College of Physicians': 4, 'UK (MRCP UK)': 4, 'MNAMS- Family Medicine': 1, 'MD - Medicine': 72, 'MS - Psychology': 15, 'Diploma In Skin Aesthetics': 4, 'MDS - Periodontology and Oral Implantology': 47, 'Certificate in Cosmetic Dentistry': 8, 'Post Graduate Certificate in Endodontics (PGCE)': 6, 'Fellow of Academy of General Education (FAGE)': 23, 'MD - Rheumatology': 2, 'MDS - Paedodontics And Preventive Dentistry': 47, 'MDS-Oral Pathology and Oral Microbiology': 10, 'FRCP': 15, 'Doctor of Science (DSc.)': 1, 'D.LITT - Diabetology': 1, 'DDV': 129, 'MDS - Conservative Dentistry & Endodontics': 107, 'FICD': 4, 'Post Graduate Diploma in Emergency Services (PGDEMS)': 10, 'Get inspired by remarkable stories of people like you': 24, 'MD - Acupuncture': 6, 'Master of Hospital Administration': 3, 'BA': 1, 'MDS - Periodontics': 46, 'PGD in Endodontics': 1, 'MDS - Pedodontics': 30, 'PhD - Orthodontics & Dentofacial Orthopaedics': 26, 'MOrth': 2, 'MS - Ayurveda': 29, 'MRCPS': 5, 'P.G Diploma in Aesthetic Dentistry': 1, 'MD - Tuberculosis & Respiratory Diseases/Medicine': 3, 'MS - General Surgery': 40, 'Diploma in Health Administration': 9, 'MD - Skin & VD': 27, 'FAMS - Fellowship of the Academy Medicine': 3, 'MD - Internal Medicine': 71, 'DNB - Internal Medicine': 12, 'FRCS - General Surgery': 11, 'PhD - Homoeopathy': 2, 'Certificate in Dental Implants': 32, 'MDS - Orthodontics and Dentofacial Orthopaedics': 44, 'DNB - Family Medicine': 10, 'MS - Pediatric': 1, 'Member of the Royal Society for the Promotion of Health (UK) (MRSH)': 3, 'Post Graduate Diploma in Endocrinology': 5, 'MDS - Prosthodontics': 74, 'M.Sc.- Clinical Nutrition and Dietetics': 1, 'MSc - Psychotherapy And Counselling': 5, 'MS (Shalyatantra)': 1, 'MSc - Yoga': 4, 'DLO': 17, 'Post Graduate Diploma in Advanced Implantology': 1, 'MD - Alternate Medicine': 19, 'Post Graduate Diploma in Counselling & Psychotherapy': 1, 'MS - Counselling & Psychotherapy': 3, 'PhD - Alternative Medicine': 1, 'Fellowship in Oral implantlogy': 16, 'Diploma in Personal Counselling Skills (DPCS)': 1, 'DNB - Dermatology': 11, 'GCEH': 2, 'Certification in Personal Counsling': 1, 'Post Graduate Diploma in Healthcare Management(PGDHM)': 6, 'Fellowship in Lasers & Cosmetology': 2, 'Fellowship In Anti-Aging And Aesthetic Medicine': 2, 'Diploma in Practical Dermatology': 5, 'Fellow Hair Transplant Surgery': 4, 'Fellowship in Lasers & Advanced Dermatology': 1, 'DNB - Paediatrics': 4, 'MRCPCH (UK)': 3, 'MDS - Oral Medicine and Radiology': 26, 'Diploma in Obesity managemnt': 1, 'Certificate Course In Therapeutic Yoga': 1, 'DNB - Nephrology': 4, 'Certification in Aesthetic Dentistry': 10, 'MRCP': 1, 'Fellowship In Laryngology Bronchoesophagology': 3, 'FAGE': 4, 'Diploma in Medical Radio-Diagnosis': 4, 'Certification in Full Mouth Rehabilitation': 6, 'Diploma in Acupuncture': 9, 'Diploma in Naturopathy & Yogic Science (DNYS)': 3, 'Fellowship in Minimal Access Surgery': 3, 'DGO': 17, 'Diplomate in Oral Implantology': 2, 'Masters in Oral Implantology': 1, 'Implant Externship Program': 2, 'Fellowship in Implantology': 6, 'M.S. (Ayurved) Stri Roga & Prasuti Tantra': 1, 'MS - Ayurvedic Gynecology & Obstetrics': 2, 'MD - Pathology': 3, 'Fellowship in Rheumatology': 4, 'MBA': 7, 'D.Y.A': 6, 'DVD': 46, 'Diploma in Public Health': 3, 'PhD- Ayurveda': 13, 'DM - Critical Care Medicine': 1, 'Post Graduate Course in Diabetology': 7, 'DNB - Otorhinolaryngology': 45, 'BSAM': 7, 'Certificate Course in Sports and Fitness Nutrition': 2, 'Diploma in Advanced Skin and Hair Treatments': 1, 'Doctor of Medicine (Alternate Medicine)': 2, 'Certificate in Cosmetology': 2, 'MD - Skin': 13, 'VD & Leprosy': 13, 'MDS - Public Health Dentistry': 5, 'Post Graduate Diploma In Yoga': 5, 'Diploma in ENT': 3, 'MA': 2, 'DNHE': 9, 'Diploma in Endoscopy': 1, 'Diploma in Anesthesiology': 7, 'MRCGP': 8, 'MDS - Orthodontics': 68, 'MD - Microbiology': 3, 'Post-Graduate Certificate in Oral Implantology (PGCOI)': 12, 'DO': 4, 'Diploma in Naturopathy & Yoga (NDDY)': 4, 'DNB - Dermatology & Venereology': 88, 'Diploma in Dermatology & Venerology': 5, 'DPM (Psychiatry)': 3, 'M.D. (Psychiatry)': 6, 'MD - Pharmacology': 6, 'Diploma in Diabetology': 3, 'Fellowship in Diabetology(Royal Liverpool University Hospital': 1, 'UK)': 8, 'Diploma in Family Medicine (DFM)': 8, 'Post Graduate Diploma in Clinical Research (PGDCR)': 8, 'F.A.G.E': 1, 'Diploma In Clinical Panchakarma': 1, 'Diploma in Child Health (DCH)': 20, 'DNB - Pediatrics': 2, 'DAA - Diploma in Allergy Asthma and Immunology': 3, 'MS - Endocrinology & Diabetes': 1, 'DM - Cardiology': 11, 'FNB - Infectious Disease': 1, 'DNB - General Medicine': 38, 'Diploma in Tuberculosis and Chest Diseases (DTCD)': 8, 'Division of Clinical Psychology (DCP)': 2, 'MSc - Master of Oral Implantology (MOI)': 4, 'MD - Oncology': 1, 'FCPS - Dermatology': 13, 'Certificate in Child Health (CCH)': 19, 'Masters in Counselling and Psychotherapy': 2, 'Diploma in Rheumatology': 1, 'MCP(UCLA-USA)': 1, 'PhD - Neuropsychology': 1, 'Fellowship in ENT': 1, 'Diploma In Naturopathy (ND)': 6, 'PG Diploma in Sexual Medicine': 1, 'Diploma in Medical Law and Ethics (PGDMLE)': 2, 'MRCP (UK)': 21, 'MBA (Health Care)': 2, 'Diplomate of American board of hair restoration surgery': 1, 'Post Graduate Diploma in Diabetes': 1, 'MNAMS - Plastic Surgery': 1, 'Certified in Hair Transplantation': 2, 'PG Diploma In Clinical Cosmetology (PGDCC)': 13, 'DORL (ENT)': 5, 'IDCC (ISCCM)': 1, 'MD - Family Medicine': 4, 'Master of Public Health (MPH)': 4, 'Diploma in Cardiology': 5, 'Fellowship In Cosmetic Dermatology': 7, 'MD - Anaesthesiology': 6, 'Ayurvedic panchkarma': 3, 'Post Graduate Diploma in Dermotology (PGDD)': 1, 'Certificate of Oral Implantology': 14, 'Certification in Laser Dentistry': 6, \"Dip' NMD\": 1, 'PGMHA': 2, 'Diploma in Hospital Management': 5, 'Certificate Course in Management of Thyroid Disorder': 4, 'Fellowship in Diabetology(Boston School of Medicine': 1, 'USA)': 3, 'PGDHHM': 6, 'Post Graduate Diploma in Hospital & Healthcare Management': 5, 'FCSI': 1, 'FSCAI': 3, 'Master of Clinical Dentistry': 1, 'Certified In Panchkarma': 3, 'Certification In Yoga': 2, 'Paanchabhautic Ayurveda Certificate': 1, 'Diploma in Traditional Chinese Medicine': 1, 'Diploma of Clinical Hypnotherapy': 1, 'Fellowship in Diabetology': 26, 'Diploma in Laser Dentistry': 3, 'Diploma in Preventive & Promotive Healthcare': 2, 'Integrated Clinical Hypnotherapy': 2, 'Master of Oral Laser Applications': 1, 'MSc - Psychology': 3, 'Post Graduate Diploma in Family Medicine (PGDFM)': 1, 'MD - Ayurvedic Pharmacology': 2, 'Certificate Endodontics & Pedodontics': 2, 'Certified Inman Aligner': 1, '39 years experience': 1, 'Cert. (Prosthodontics)': 1, 'MD - Ayurvedic Obstetrics and Gynecology': 1, 'Diploma in Hospital Administration': 7, 'MCh - Urology': 4, 'DNB - Urology/Genito - Urinary Surgery': 3, 'FRCP - Endocrinology': 1, 'LCEH': 16, 'Nutrition Certification': 4, 'Doctor of Homeopathic Medicine (HMD)': 5, 'Diploma in Implant Dentistry': 2, 'Fellowship in Cosmetology': 8, 'MD - Community Medicine': 4, 'P.G.Hom.(London)': 1, 'fellowship in medical cosmetology': 1, 'germany': 1, 'Certified Advance Course In Endodontics': 5, 'Diplomate of National Board Exam': 1, 'Diploma in Implanthology': 6, 'ECFMG (USA)': 2, 'Fellowship In Dermatosurgery': 6, 'Fellowship in Pediatric Dermatology': 5, 'CGO': 25, 'Diploma in Trichology - Cosmetology': 7, 'Diploma in Weight Loss': 1, 'EducationDiploma in Naturopathy and Yoga': 1, 'P.G Diploma in Diabetes Management': 1, 'Post Graduate Diploma in Maternity and Child Health (PGDMCH)': 5, 'Fellowship SIB': 1, 'DAA': 3, 'DNB - Peripheral Vascular Surgery': 1, 'FRACS': 1, 'Diploma in Aesthetic Medicine': 4, 'MCIP': 2, 'PGDCFS': 1, 'PGDFOS': 1, 'Diploma in Journalism': 1, 'MD - Homoeopathic Philosophy': 2, 'MS - Counselling and Psychotherapy': 7, 'MCh - Oncology': 1, 'MNAMS - General Surgery': 3, 'Diploma in Geriatric Medicine': 2, 'M C P S': 1, 'Fellowship In Infectious Disease': 1, 'M Derm': 1, 'FCAH (Fellow ship course in Advance Homoepath)': 3, 'MD - Pulmonary Medicine': 3, 'BPTh/BPT': 1, 'PGNAHI': 2, 'CSD': 3, 'MSc': 6, 'PG in Diabetology': 7, 'FCPS Skin & VD': 3, 'M. D. IN KAYACHIKISTA': 2, 'Diploma in Psychiatry': 1, 'Diploma in Panchkarma Chikitsa': 1, 'Fellowship and Diplomate in Implantology from ICOI (USA)': 9, 'MCh - Plastic Surgery': 2, 'Fellowship in Cleft Lip & Palate': 1, 'MD - Diabetology': 6, 'Post Doctoral Fellowship in Diabetology': 1, 'MD - Cardiology': 5, 'MBA (HCS)': 3, 'FFDRCSI': 3, 'Fellowship in Applied Nutrition(FAN)': 2, 'PhD - Clinical Neuroscience (Pediatrics)': 1, 'Professional Diploma in Clinical Research (PDCR)': 1, 'FICOI': 8, 'MD - Physician': 23, 'BNYS': 1, 'Advanced Certificate Course in Aesthetic Dentistry': 3, 'Professional Implantology Training Course (PITC)': 2, 'FAGE- FELLOW': 1, 'Comprehensive Course in Modern Endodontics': 2, 'Indian Diploma Critical Care Medicine (IDCCM)': 3, 'Fellowship in Aesthetic Dentistry (FAD)': 3, 'Fellowship in Rhinology and Endoscopic Skull Base Surgery': 1, 'Fellowship in Otology and Neurotology': 1, 'Fellow of International Congress of Oral Implantologist': 2, 'Post MD SR AIIMS': 2, 'Fellowship in Head & Neck Oncology Surgery': 9, 'Certificate in Dental Implantology': 1, 'Certificate in Orthodontics': 1, 'Bachelor of Chiropractic': 1, 'Diploma in Venereology': 3, 'Certificate in Invisible Braces': 3, 'Certification in Clear Aligners': 2, 'Certification in “Preventing Chronic Pain: A Human Systems Approach”': 1, 'Certification in “Vital Signs: Understanding What the Body Is Telling Us”': 1, 'Diploma in Medical Trichology': 1, 'B.Sc': 12, 'MBA - Healthcare Administration': 1, 'MRCPsych': 1, 'Diploma in Medical Cosmetology and Aesthetic Medicine': 1, 'PG Diploma In Health & Hospital Management': 2, 'PG DIPLOMA IN MEDICAL TOURISM': 1, 'Fellowship in LASERs & Aesthetics': 2, 'Diploma in Orthopaedics': 3, 'DNB - General Surgery': 4, 'MS - Paediatrics Surgery': 1, 'DNB - Pediatric Surgery': 1, 'One Year Certificate course in Hospital Management': 1, 'Certified Course in Yoga': 3, 'DICOI': 3, 'MBA - Hospital Management': 5, 'G.A.M.S': 3, 'MS - Ophthalmology': 3, 'Fellowship in Implant and Esthetic Dentistry': 2, 'AOC in Aesthetic Dentistry': 1, 'PGDE (Cosmetic & Esthetic Dentist)': 3, 'Invisalign Training Course': 4, 'Post Graduate Diploma in Clinical Nutrition & Dietetics': 1, 'Masters Diploma in Acupressure': 2, 'MDS- Oral Pathology': 6, 'Fellowship in Breast Surgery': 1, 'Fellowship in Non-Invasive Cardiology (FIC)': 4, 'MAMS': 3, 'FCPS - Mid. & Gynae': 3, 'CVD': 2, 'Diploma in Clinical Nutrition': 1, 'MS - Ayurvedic General Surgery': 1, 'MD - Yoga and Rehab': 2, 'Certification in Infectious Diseases': 1, 'Diploma in Tropical Medicine Health': 2, 'Fellowship in Skull Base Surgery': 2, 'TFO (USA)': 1, 'PG in Diabetology (USA)': 3, 'MDS - Orthodontics and Orofacial Orthopaedics': 3, 'M.Med in Family Medicine': 1, 'DIACH(Greece)': 1, 'Certificate Course in Advanced Homoeopathy (C.C.A.H)': 6, 'FCCM': 4, 'FCCP - Pulmonary Medicine': 6, 'Diploma of the Faculty of Family Planning (DFFP)': 2, 'Diploma in Sports Therapy': 1, 'Post graduate diploma in Hospital Management': 2, 'Certification for Professional Chemical Peel Workshop': 1, 'Certificate in Aesthetic Medicine': 2, 'BUMS': 1, 'Masters in Clinical Dermatology': 6, 'PGCC - Rheumatology': 1, 'MD - Opthalmology': 1, 'MD - Kayachikitsalaya': 1, 'MS - Implantolgy': 1, 'Implantology ICOI(USA)': 1, 'Diploma in Diet and Nutrition': 7, 'PGDHA': 2, 'Certificate Course in Tuberculosis & Chest Diseases': 1, 'Advanced Training Program in Diabetes Care': 1, 'PhD in Liberal Studies in Diabetology (Trinity College)': 1, 'CCEDM': 3, 'CCMTD': 3, 'CCDR': 1, 'MDS - Implantology': 1, 'MD - Obstetrics & Gynaecology': 8, 'MD-DVL': 3, 'Diploma in Beauty Therapy': 1, 'Certificate Course In Cosmetic Dermatology & Lasers': 2, 'PG Diploma in Trichology': 2, 'Certificate in Botox': 1, 'Fillers': 1, 'Threadlifts': 1, 'Advanced Certification in Clinical Diabetology': 2, 'SCE Dermatology (RCP': 1, 'Post Graduate Diploma in Orthodontics': 4, 'CCD (Diabetology)': 1, 'MCh - Cardio Thoracic and Vascular Surgery': 1, 'DM - Gastroenterology': 5, 'FCPS - General Surgery': 3, 'DM - Rheumatology': 1, 'Fellowship in Dermatology': 2, 'Training in Facial Aesthetics': 1, 'Certificate in Health Management': 1, 'MD - Homeopathy Psychiatry': 2, 'PGCAD': 1, 'MRCP (Paed)': 1, 'Diplomate American Academy of Aesthetic Medicne': 1, 'MS - Urology': 1, 'MCh - Urology/Genito-Urinary Surgery': 1, 'PG Diploma In Emergency Trauma Care': 2, 'Post Graduate Diploma in Diabetology (PGDD)(Middlesex University': 1, 'Fellowship in Orthopaedic Rehabilitation (FOR)': 1, 'MIDA': 1, 'Certificate Course in Dental Lasers': 1, 'Certificate Course in Implantology': 3, 'DM - Endocrinology': 3, 'PGCR': 2, 'Diploma in Diabetes/Endocrinology (Middlesex University)': 1, 'MD - Paediatrics': 2, 'MD - (Dermatology & STD)': 2, 'Diploma in Clinical Pathology': 1, 'PG Diploma in Preventive and Promotive Health Care (PGD PPHC)': 1, 'Fellowship in Medical Cosmetology (FMC)': 2, 'MDS - Endodontics': 4, 'MCh - Neuro Surgery': 2, 'Fellowship in Cosmetic Surgery': 2, 'DNB - Ophthalmology': 3, 'Fellowship in Vitreo-Retina': 1, 'MS - Orthopaedics': 4, 'MNAMS (Membership of the National Academy)': 5, 'Post Graduate Diploma in Medicological Systems (PGDMS)': 2, 'Fellow of the Royal Australasian College of Surgeons': 1, 'FRACS (General Surgery)': 1, 'Fellowship in Ayurvedic Medicine': 1, 'DM - Oncology': 2, 'DHMS': 3, 'Fellowship in Endocrinology': 2, 'Diabetes & Metabolism': 2, 'Fellow of American College of Endocrinology(FACE)': 1, 'PG Diploma in Child Health': 1, 'POST GRADUATE IN HOMOEOPATHY': 1, 'Certified in Orthodontics': 2, 'Certified BPS Dentist': 3, 'Fellowship in Advanced Endoscopic Sinus Surgery': 3, 'Degree in Dental Implant': 1, 'Advanced Endotontic Course On Root Canal': 2, 'Master In Counselling Psychology': 1, 'Diploma in Diabetology (Mumbai University)': 1, 'D.Sc': 2, 'Certification Course In Diabetes': 2, 'Fellowship in Clinical Cardiology': 1, 'Post Graduate Certificate in Advanced Oral Implantology': 3, 'Ph.D Panchakarma': 1, 'M.Ch': 3, 'FICS': 3, 'FRCS': 3, 'PG Diploma in Panchakarma': 1, 'F.C.I.P': 1, 'MDS - Oral & Maxillofacial Pathology and Microbiology': 1, 'M.Ch - Orthopaedics': 2, 'Fellowship in Joint Replacement': 2, 'Fellowship in Diabetology(Royal Liverpool Academy': 2, 'FCD - Diabetology': 5, 'PhD - Microbiology': 1, 'DEMS': 2, 'Member of Royal College of Emergency Medicine(MRCEM)': 1, 'Masters in Emergency Medicine': 1, 'International Certificate in Implant Dentistry': 1, 'Current Concepts in American Dentistry Advances in Implantology and Oral Rehabilitation': 2, 'MSc - Forensic Odontology': 2, 'MBA - Hospital Administration': 1, 'MCh - Surgical Gastroenterology/G.I. Surgery': 2, 'DNB - Infectious Disease': 1, 'PGDMLS': 4, 'MBA - HealthCare Management': 2, 'M.H.Sc-Diabetology': 3, 'CCEBDM': 3, 'Certificate Course in Nutrition and Dietetics': 1, 'PhD - Acupuncture': 2, 'BEMS': 5, 'Fellowship in Gastroenterology': 2, 'DNB - Oral & Maxillofacial Surgery': 1, 'MD- Dravya Guna': 3, 'Fellow of Advanced Micro ear Surgery': 1, 'MDS- Periodontist & Implantalogist': 1, 'Fellowship in Head & Neck Surgery': 2, 'Fellowship Training in Intensive Care Medicine': 1, 'Fellow of Indian College of Cardiology (FICC)': 1, 'MD - Anatomy': 2, 'Fellowship in Child and Adolescent Psychiatry': 1, 'Post Graduate Diploma in Periodontics and Implantology': 1, 'Fellowship Program in Forensic Odontology': 1, 'Fellowship In Phonosurgery': 2, 'MA - Psychology': 2, 'Post Graduate Course in Rheumatology': 1, 'MD - Venereology': 1, 'MD - Repertory': 1, 'DNB - Obstetrics & Gynecology': 2, 'Postgraduate Diploma Clinical Cardiology (PGDCC)': 6, 'Fellowship in Cardiac Rehabilitation': 2, 'Certificate Course in Oral Implantology': 1, 'MPH': 4, 'Post Graduate Diploma in Holistic Healthcare': 1, 'Graduate Diploma in Family Medicine': 1, 'Singapore': 1, 'D.Ortho Fellow Arthroscopy & Arthroplasty(AUST)': 1, 'DNB - Orthopedics/Orthopedic Surgery': 3, 'MNAMS - DERMATOLOGY': 1, 'Basic Life Support (BLS)': 3, 'ACLS': 1, 'Advanced Trauma Life Support (ATLS)': 2, 'Diploma In Pharmacy': 3, 'Advance Diploma in Nutrition and Dietetics': 2, 'Certificate in Yoga & Meditation': 1, 'DM - Nephrology': 4, 'Diploma in Nutrition and Health Education': 1, 'MSc - Clinical Dermatology': 4, 'Advanced Certificate in Endodontics and Esthetics': 1, 'Advanced Certificate Course in Dental Implants': 2, 'B.Ac': 1, 'FACC': 1, 'Certificate Course in Positive Psychology': 1, 'Clinical Nutritionist certifcate': 1, 'M.Sc - Counselling and Family Therapy': 1, 'D. Dermatology (Ay.)': 1, 'Master of Family Medicine': 2, 'MS - Obstetrics & Gynaecology': 2, 'MDS- Root Canal Specialist': 1, 'FCPS (ENT)': 1, 'Certificate in Implantology': 1, 'FCPS - Oto-Rhino-Laryngology': 5, 'Certificate in Medical Cosmetology and Aesthetics': 1, 'MCh - Head and Neck Oncology': 4, 'DDVCPS': 1, 'Diploma in Medical Cosmetology': 4, 'FNB - Critical Care Medicine': 1, 'European Diploma in Intensive Care Medicine (EDIC)': 1, 'CCST - Internal Medicine': 1, 'CCST - Diabetes & Endocrinology': 2, 'M.D. (E.H)': 1, 'MDS - Preventive & Community Dentistry': 1, 'Diploma in Homoeopathy and Biochemistry': 1, 'Diploma in Hair Restoration Surgery': 2, 'Fellowship In Pediatric Otolaryngology': 2, 'Fellowship in Diabetology(The University of Liverpool': 1, 'Diploma in Industrial Hygiene': 2, 'Diploma in Educational Psychology': 1, 'Certificate in Food and Nutrition': 3, 'Diploma in Clinical Dermatology (UK)': 1, 'F.S.R.H': 1, 'FCPS - Medicine': 2, 'MD - Nephrology': 1, 'MCh - Surgical Oncology': 2, 'Diploma in Gynaecology & Obstetrics': 1, 'Fellow of the American Academy of Dermatology (FAAD)': 4, 'MDS - Prosthodontist & Oral Implantologist': 4, 'MD - Homeo Organon': 2, 'MFGDP - Membership of the Faculty of General Dental Practitioners': 1, 'Membership of the Faculty of Dental Surgeons(MFDS)': 1, 'DNB - Respiratory Diseases': 2, 'BIMS': 1, 'MCPS': 2, 'Certificate in Sports Nutrition': 1, 'Post Graduate Diploma in Medical Cosmetology (PGDMC)': 2, 'Certificate in Pediatric Otolaryngology - Head and Neck Surgery': 1, 'Diploma in Aesthetic Dermatology': 1, 'MD - Infectious Diseases': 1, 'Certificate Course of One Year in Dental Implants': 1, 'Certificate Course in Advance Implantology': 1, 'Certificate Course in Evidence Based Diabetes Management (CCEBDM)': 4, 'Certificate Course in Gestational Diabetes (CCGDM)': 3, 'MD - Physical Medicine & Rehabilitation': 1, 'Diploma in Physical Medicine & Rehabilitation': 1, 'Fellowship in Diabetology & Endocrinology': 1, 'CCT - Endocrinology and Diabetes Mellitus': 1, 'Certified Sinus lift surgeon': 1, 'Diploma in Skin Polishing Technology': 1, 'Diploma in Slimming & Laser Treatments': 1, 'Certificate in Clinical Cosmetology': 1, 'PCAD (USA)': 1, 'MD - Acupressure': 2, 'PhD - Diabetes': 1, 'Fellowship in Medical Cosmetology': 2, 'Diploma in Cosmetic Dentistry': 1, 'FRCS - Otolaryngology': 5, 'DNB - Cardiology': 2, 'Distance Fellowship in Diabetes Management': 1, 'MBA - Healthcare Services': 1, 'Post Graduate Diploma in Diabetology (PGDD)(Johns Hopkins University School of Medicine': 1, 'Fellowship in Diabetology(Johns Hopkins University School of Medicine': 1, 'DMD - Doctor of Dental Medicine': 1, 'Post Graduate Diploma in Diabetology (PGDD)(Cardiff University': 1, 'ACDMC': 1, 'Diploma in Acupressure Therapy': 1, 'Advanced Certificate Course In Diabetes': 4, 'Post graduate certificate In sports Medicine': 1, 'Clinical Cardiology Certification': 1, 'FDS Surgical Oral Oncology': 1, 'Diploma in Ultra Sonology': 1, 'MD (HOM) - Paeditrics': 1, 'Clinical Fellowship in Rhinology': 1, 'MD - Ophthalmology': 1, 'MDS - Oral Pathalogy & Microbiology': 1, 'LLB': 2, 'Fellow in Dermato - Surgery': 1, 'Advance Fellowship in Laser & Dermatosurgery': 1, 'PhD - Psychology': 1, 'MD - Tuberculosis & Respiratory Diseases / Pulmonary Medicine': 2, 'MDS - Oral Medicine': 4, 'PG Certificate Course In Diabetes Education(PGDCE)': 3, 'PGD Yoga': 1, 'MA (Yoga Shastra)': 1, 'Diploma in Yoga Shikshaka': 1, \"Yoga Instructor's Course\": 4, 'D.H.M': 1, 'MD - Physiology': 1, 'F.A.M': 1, 'Fellowship in laryngology': 1, 'Ph. D - ENT': 1, 'Certificate in Laser and Dermatology': 1, 'Diploma in Skin & Vinereal Disease': 1, 'Diploma of Nutrition & Diet Planning': 2, 'Diploma in Diabetes': 3, 'PG - Echocardiography': 1, 'DM - Pulmonary Medicine & Critical Care Medicine': 1, 'European Diploma in Respiratory Medicine': 1, 'Post Graduate Diploma in Diabetic Education': 1, 'Weight Management Consultant Certificate': 1, 'Fellowship (Endoscopic Sinus Surgery)': 1, 'MD - TB & Chest': 1, 'FRACP (Rheumatology)': 2, 'F.C.P.S (Dermatology)': 1, 'Post Graduate Diploma in Health Sciences (PGDHSc)': 1, 'Master of Health Sciences (MHSc)': 3, 'M. SC in YOGA': 1, 'Diploma in Naturopathy & Yogic Science (DNYT)': 1, 'DYSc.': 1, 'Post Graduate in Clinical Psychology': 1, 'Certificate Course in Panchakarma': 2, 'Certificate Course in Nadi Sutra': 1, 'Post Graduate Certificate In Hiv And Std Manegement': 1, 'Fellow Indian Academy Of Clinical Medicine': 1, 'Advance Course In Osteoporosis': 1, 'EULAR certificate for Rheumatic Diseases': 1, 'MD - Radio Diagnosis/Radiology': 1, 'CCT - Dermatology': 1, 'Diploma in ABLS (USA)': 1, 'FPFA': 1, 'MDS - Preventive and Public Health Dentistry': 2, 'Certificate course in Reiki': 1, 'Certificate in Nutrition and Health in Hospitalized': 1, 'Certificate in Guidance and Counselling': 1, 'Post graduate diploma in Health Management': 1, 'PGDPC (Post Graduation Diploma In Psychological Counselling)': 3, 'MD - Transfusion Medicine': 1, 'MD - Bio-Chemistry': 1, 'PGD ND': 1, 'MBS (H)': 1, 'FIAMS': 2, 'Certified in Pedodontics': 1, 'FICS - ENT': 1, 'FRHS': 1, 'M.Sc - Biochemistry': 1, 'Fellow of the Royal College of Surgeons of Ireland': 1, 'Fundamental in Oral Implantology': 1, 'Doctorate of Medicine in Electro Homoeopathy(MDEH)': 1, 'D.D': 1, 'FCCS': 3, 'DSM ( Siddha Medicine)': 1, 'D.Ac': 1, 'MD - Social & Preventive Medicine / Community Medicine': 1, 'PGCE(Endodontics)': 1, 'MS - Ayurvedic Ophthalmology': 1, 'MNAMS - Nephrology': 1, 'DAFPRS Fellowship in Aesthetic Surgery': 1, 'Fellowship in Pediatric Endocrinology': 1, 'Diploma in Urology': 1, 'FRCPCH': 1, 'M Phil Psychology': 1, 'PDCC - Hand': 1, 'PG in Laser Dentistry': 1, 'Diploma in Obesity & Pain management': 1, 'Post Graduate Diploma in Health': 1, 'Family Welfare and Population': 1, 'DIH': 1, 'Doctor of Medicine': 2, 'M.D. Panchakarma': 1, 'M.Sc. Yoga and Naturopathy': 1, 'Certificate in Botox and Fillers': 1, 'MD - Pain Management': 1, 'FICA': 2, 'Diploma in Dietetics': 1, 'Health and Nutrition (DDHN)': 1, 'DVL': 2, 'Diplomate in Neuromuscular Functional Orthodontics And Gathology': 1, 'FIMSA': 2, 'MSc - Physiology': 1, 'PG Diploma Clinical Research': 1, 'Diploma in Dietetics & Public Health Nutrition (DDPHN)': 1, 'Robert Turner Diabetes Research Training': 1, 'WHO/IDF/EASD Cambridge Diabetes Training': 1, 'MS - Otrohinolaryngology': 1, 'AMI Essentials- Applied Workshop for Aesthetic Procedures': 1, 'Advanced Course in Cosmetology and Aesthetic Medicine': 2, 'Fellowship in Micro Ear surgery': 1, 'Fellowship in Snoring Surgery': 1, 'Diploma in Industrial Health': 1, 'MSc - Psychotherapy': 1, 'Certification of Life Coach': 1, 'PG - Homeo': 1, 'M.A - Sanskrit': 1, 'DNB - Endocrinology': 1, 'Diabetes': 1, 'Metabolism': 1, 'Certified Yoga and Pranic healing Therapist': 1, 'Certified National Diabetes Educator': 1, 'Bachelor of Acupuncture': 1, 'Certified Analytical Hypnotherapist': 1, 'Diploma in Physiotherapy': 1, 'Certificate in Medical Cosmetology': 1, 'MD - Radiotherapy': 1, 'Certificate course in SUJOK Therapy': 1, 'Fellowship In Clinical Cosmetology': 1, 'Cochlear Implant Surgery': 1, 'Fellowship Cochlear Implant Training': 1, 'Post Graduate Diploma in Psychological Counseling': 1, 'Post Graduate Diploma in Diabetology (PGDD)(Madras Medical College)': 1, 'Diploma in Skin Treatments (UK)': 1, 'Certification of Aesthetic Dentistry & Periodontics': 1, 'MCh - Burns & Plastic Surgery': 1, 'EULAR Certificate in Rheumatology': 1, 'FICO (UK)': 1, 'PhD - Dermatology & Venereology': 1, 'DNB - Pulmonary Medicine': 3, 'Post Graduate Certificate Course In Aesthetic Dentistry': 1, 'FACP': 1, 'Member of the Royal College of General Practitioners UK (MRCGP)': 1, 'MD - Geriatrics': 1, 'MD AYURVED AND YOG': 1, 'Training Certificate in Hair Transplant': 1, 'Certificate Course in Gestational Diabetes Mellitus': 1, 'P.G. Diploma in Yoga & Meditation': 1, 'MD-Ayurvedic Vachaspati': 1, 'Post Graduate Diploma in Sports Medicine': 1, 'MSc. - Dermatology Skills and Treatment (University of Hertfordshire)': 1, 'MSc - Applied Psychology': 1, 'FRCSEd': 1, 'MSc - Endocrinology(UK)': 1, 'MCh - Cardio Thoracic Surgery': 1, 'Masters in Surgery (MS)': 1, 'MD - (Medicine - Endocrinology)': 1, 'MCEM': 1, 'DFM (UK)': 1, 'DIPLOMA IN TB AND CHEST DISEASES': 1, 'Certification in Nutrition and Weight Management': 1, 'DAT(Diploma in Accupressure and foot Reflexology)': 1, 'MASLP': 1, 'Diploma in Radio Therapy': 1, 'FDSRCS - Fellowship in Dental Surgery': 2, 'Fellowship in ClearPath Aligners': 1, 'FAMS - Dermatology': 1, 'Diploma In Anatomy Physiology': 1, 'PDCC - Pediatric Endocrinology': 1, 'Diploma in Counselling and Psychotherapy': 1, 'MD - CCM': 1, 'Ph.D(Doctor of Philosophy)': 1, 'PG Diploma in Value Education and Spirtuality': 1, 'Certified Implantologist': 1, 'Fellowship in Surgical Oncology (Head & Neck)': 1, 'Continuing Education Certificate Program on Temporomandibular Joint Disorder and Orofacial Pain': 1, 'Post Graduate in Homeopathy(london)': 1, 'DNB - Radiation Oncology': 1, 'MDS - Operative Dentistry': 1, 'DTCD(Diploma in TB and Chest Dieseas)': 1, 'Member Of The National Academy Of Medical Sciences': 1, 'DNB - Radiotherapy': 1, 'Post Graduate Diploma in Diabetology (PGDD)(University of Leicester': 1, 'DRCOG': 1, 'FDS Endodontics': 1, 'Certified in Advanced Orthodontics': 1, 'certification in smile designing': 1}\n"
     ]
    }
   ],
   "source": [
    "# DICT of qualification with there counts\n",
    "train[\"Qualification\"]=train[\"Qualification\"].str.split(\",\")\n",
    "Qualification ={}\n",
    "for x in train[\"Qualification\"].values:\n",
    "    for each in x:\n",
    "        each = each.strip()\n",
    "        if each in Qualification:\n",
    "            Qualification[each]+=1\n",
    "        else:\n",
    "            Qualification[each]=1\n",
    "            \n",
    "print(Qualification)"
   ]
  },
  {
   "cell_type": "code",
   "execution_count": 28,
   "metadata": {},
   "outputs": [
    {
     "name": "stdout",
     "output_type": "stream",
     "text": [
      "['MBBS', 'BDS', 'BAMS', 'BHMS', 'MD - Dermatology', 'MS - ENT', 'Venereology & Leprosy', 'MD - General Medicine', 'Diploma in Otorhinolaryngology (DLO)', 'MD - Homeopathy']\n"
     ]
    }
   ],
   "source": [
    "#Taking the most Occured Qualifications\n",
    "most_qual = sorted(Qualification.items(),key=lambda x:x[1],reverse=True)[:10]\n",
    "final_qual = []\n",
    "for qual in most_qual:\n",
    "    final_qual.append(qual[0])\n",
    "    \n",
    "print(final_qual)"
   ]
  },
  {
   "cell_type": "markdown",
   "metadata": {},
   "source": [
    "Making The Most Occured Qualifications as Columns in the train dataframe"
   ]
  },
  {
   "cell_type": "code",
   "execution_count": 29,
   "metadata": {},
   "outputs": [],
   "source": [
    "for qual in final_qual:\n",
    "    train[qual] = 0\n",
    "for x,y in zip(train['Qualification'].values, np.array([i for i in range(len(train))])):\n",
    "    for c in x:\n",
    "        c = c.strip()\n",
    "        if c in final_qual:\n",
    "            train[c][y] = 1"
   ]
  },
  {
   "cell_type": "code",
   "execution_count": 30,
   "metadata": {},
   "outputs": [],
   "source": [
    "#As we made the Qualtification column into degree columns we can drop the extra columns : Qualtification,Qualtification_count\n",
    "train.drop('Qualification',axis=1,inplace=True)\n",
    "train.drop('Qualification_count',axis=1,inplace=True)"
   ]
  },
  {
   "cell_type": "code",
   "execution_count": 31,
   "metadata": {},
   "outputs": [
    {
     "data": {
      "text/html": [
       "<div>\n",
       "<style scoped>\n",
       "    .dataframe tbody tr th:only-of-type {\n",
       "        vertical-align: middle;\n",
       "    }\n",
       "\n",
       "    .dataframe tbody tr th {\n",
       "        vertical-align: top;\n",
       "    }\n",
       "\n",
       "    .dataframe thead th {\n",
       "        text-align: right;\n",
       "    }\n",
       "</style>\n",
       "<table border=\"1\" class=\"dataframe\">\n",
       "  <thead>\n",
       "    <tr style=\"text-align: right;\">\n",
       "      <th></th>\n",
       "      <th>Experience</th>\n",
       "      <th>Rating</th>\n",
       "      <th>Profile</th>\n",
       "      <th>Miscellaneous_Info</th>\n",
       "      <th>Fees</th>\n",
       "      <th>area</th>\n",
       "      <th>city</th>\n",
       "      <th>MBBS</th>\n",
       "      <th>BDS</th>\n",
       "      <th>BAMS</th>\n",
       "      <th>BHMS</th>\n",
       "      <th>MD - Dermatology</th>\n",
       "      <th>MS - ENT</th>\n",
       "      <th>Venereology &amp; Leprosy</th>\n",
       "      <th>MD - General Medicine</th>\n",
       "      <th>Diploma in Otorhinolaryngology (DLO)</th>\n",
       "      <th>MD - Homeopathy</th>\n",
       "    </tr>\n",
       "  </thead>\n",
       "  <tbody>\n",
       "    <tr>\n",
       "      <th>0</th>\n",
       "      <td>24</td>\n",
       "      <td>10</td>\n",
       "      <td>Homeopath</td>\n",
       "      <td>100% 16 Feedback Kakkanad, Ernakulam</td>\n",
       "      <td>100</td>\n",
       "      <td>Kakkanad</td>\n",
       "      <td>Ernakulam</td>\n",
       "      <td>0</td>\n",
       "      <td>0</td>\n",
       "      <td>0</td>\n",
       "      <td>1</td>\n",
       "      <td>0</td>\n",
       "      <td>0</td>\n",
       "      <td>0</td>\n",
       "      <td>0</td>\n",
       "      <td>0</td>\n",
       "      <td>1</td>\n",
       "    </tr>\n",
       "    <tr>\n",
       "      <th>1</th>\n",
       "      <td>12</td>\n",
       "      <td>10</td>\n",
       "      <td>Ayurveda</td>\n",
       "      <td>98% 76 Feedback Whitefield, Bangalore</td>\n",
       "      <td>350</td>\n",
       "      <td>Whitefield</td>\n",
       "      <td>Bangalore</td>\n",
       "      <td>0</td>\n",
       "      <td>0</td>\n",
       "      <td>1</td>\n",
       "      <td>0</td>\n",
       "      <td>0</td>\n",
       "      <td>0</td>\n",
       "      <td>0</td>\n",
       "      <td>0</td>\n",
       "      <td>0</td>\n",
       "      <td>0</td>\n",
       "    </tr>\n",
       "    <tr>\n",
       "      <th>2</th>\n",
       "      <td>9</td>\n",
       "      <td>0</td>\n",
       "      <td>ENT Specialist</td>\n",
       "      <td>NaN</td>\n",
       "      <td>300</td>\n",
       "      <td>Mathikere - BEL</td>\n",
       "      <td>Bangalore</td>\n",
       "      <td>1</td>\n",
       "      <td>0</td>\n",
       "      <td>0</td>\n",
       "      <td>0</td>\n",
       "      <td>0</td>\n",
       "      <td>0</td>\n",
       "      <td>0</td>\n",
       "      <td>0</td>\n",
       "      <td>0</td>\n",
       "      <td>0</td>\n",
       "    </tr>\n",
       "    <tr>\n",
       "      <th>3</th>\n",
       "      <td>12</td>\n",
       "      <td>0</td>\n",
       "      <td>Ayurveda</td>\n",
       "      <td>Bannerghatta Road, Bangalore ₹250 Available on...</td>\n",
       "      <td>250</td>\n",
       "      <td>Bannerghatta Road</td>\n",
       "      <td>Bangalore</td>\n",
       "      <td>0</td>\n",
       "      <td>0</td>\n",
       "      <td>1</td>\n",
       "      <td>0</td>\n",
       "      <td>0</td>\n",
       "      <td>0</td>\n",
       "      <td>0</td>\n",
       "      <td>0</td>\n",
       "      <td>0</td>\n",
       "      <td>0</td>\n",
       "    </tr>\n",
       "    <tr>\n",
       "      <th>4</th>\n",
       "      <td>20</td>\n",
       "      <td>10</td>\n",
       "      <td>Ayurveda</td>\n",
       "      <td>100% 4 Feedback Keelkattalai, Chennai</td>\n",
       "      <td>250</td>\n",
       "      <td>Keelkattalai</td>\n",
       "      <td>Chennai</td>\n",
       "      <td>0</td>\n",
       "      <td>0</td>\n",
       "      <td>1</td>\n",
       "      <td>0</td>\n",
       "      <td>0</td>\n",
       "      <td>0</td>\n",
       "      <td>0</td>\n",
       "      <td>0</td>\n",
       "      <td>0</td>\n",
       "      <td>0</td>\n",
       "    </tr>\n",
       "  </tbody>\n",
       "</table>\n",
       "</div>"
      ],
      "text/plain": [
       "   Experience Rating         Profile  \\\n",
       "0          24     10       Homeopath   \n",
       "1          12     10        Ayurveda   \n",
       "2           9      0  ENT Specialist   \n",
       "3          12      0        Ayurveda   \n",
       "4          20     10        Ayurveda   \n",
       "\n",
       "                                  Miscellaneous_Info  Fees               area  \\\n",
       "0               100% 16 Feedback Kakkanad, Ernakulam   100           Kakkanad   \n",
       "1              98% 76 Feedback Whitefield, Bangalore   350         Whitefield   \n",
       "2                                                NaN   300    Mathikere - BEL   \n",
       "3  Bannerghatta Road, Bangalore ₹250 Available on...   250  Bannerghatta Road   \n",
       "4              100% 4 Feedback Keelkattalai, Chennai   250       Keelkattalai   \n",
       "\n",
       "        city  MBBS  BDS  BAMS  BHMS  MD - Dermatology  MS - ENT  \\\n",
       "0  Ernakulam     0    0     0     1                 0         0   \n",
       "1  Bangalore     0    0     1     0                 0         0   \n",
       "2  Bangalore     1    0     0     0                 0         0   \n",
       "3  Bangalore     0    0     1     0                 0         0   \n",
       "4    Chennai     0    0     1     0                 0         0   \n",
       "\n",
       "   Venereology & Leprosy  MD - General Medicine  \\\n",
       "0                      0                      0   \n",
       "1                      0                      0   \n",
       "2                      0                      0   \n",
       "3                      0                      0   \n",
       "4                      0                      0   \n",
       "\n",
       "   Diploma in Otorhinolaryngology (DLO)  MD - Homeopathy  \n",
       "0                                     0                1  \n",
       "1                                     0                0  \n",
       "2                                     0                0  \n",
       "3                                     0                0  \n",
       "4                                     0                0  "
      ]
     },
     "execution_count": 31,
     "metadata": {},
     "output_type": "execute_result"
    }
   ],
   "source": [
    "train.head()"
   ]
  },
  {
   "cell_type": "markdown",
   "metadata": {},
   "source": [
    "The Column Miscellaneous_Info Contains the Data of rating, city and area which are already known , so we can ignore that column.\n",
    "Coming to the area and city , the city column has unique values and can get much related to the target(fees). So we can drop \n",
    "area and miscelaneous_info"
   ]
  },
  {
   "cell_type": "markdown",
   "metadata": {},
   "source": [
    "Bivariate Analysis:"
   ]
  },
  {
   "cell_type": "code",
   "execution_count": 32,
   "metadata": {},
   "outputs": [
    {
     "data": {
      "image/png": "[encoded data removed]",
      "text/plain": [
       "<Figure size 576x576 with 1 Axes>"
      ]
     },
     "metadata": {
      "needs_background": "light"
     },
     "output_type": "display_data"
    }
   ],
   "source": [
    "plt.figure(figsize=(8,8))\n",
    "sns.barplot(x='Profile',y='Fees',data=train)\n",
    "plt.title(\"Doctor Fees wrt Profile\")\n",
    "plt.xticks(rotation=45)\n",
    "plt.show()"
   ]
  },
  {
   "cell_type": "markdown",
   "metadata": {},
   "source": [
    "We can observe that Ent Specialist and Dermatologists have the highest fees compared to other profiles."
   ]
  },
  {
   "cell_type": "code",
   "execution_count": 33,
   "metadata": {},
   "outputs": [
    {
     "data": {
      "image/png": "[encoded data removed]",
      "text/plain": [
       "<Figure size 720x576 with 1 Axes>"
      ]
     },
     "metadata": {
      "needs_background": "light"
     },
     "output_type": "display_data"
    }
   ],
   "source": [
    "plt.figure(figsize=(10,8))\n",
    "sns.barplot(x='city',y='Fees',data=train)\n",
    "plt.title(\"Doctor Fees rate in different city\")\n",
    "plt.xticks(rotation=45)\n",
    "plt.show()"
   ]
  },
  {
   "cell_type": "markdown",
   "metadata": {},
   "source": [
    "Obserrvations:\n",
    "    We can observe that Top cities like bangalore,hyderabad ,mumbai,chennai have the highest doctor fee compared to other cities."
   ]
  },
  {
   "cell_type": "code",
   "execution_count": 34,
   "metadata": {},
   "outputs": [
    {
     "data": {
      "image/png": "[encoded data removed]",
      "text/plain": [
       "<Figure size 576x576 with 1 Axes>"
      ]
     },
     "metadata": {
      "needs_background": "light"
     },
     "output_type": "display_data"
    }
   ],
   "source": [
    "#plotting with rating\n",
    "plt.figure(figsize=(8,8))\n",
    "sns.barplot(x='Rating',y='Fees',data=train,palette='magma')\n",
    "plt.title(\"Rating Vs Doctor_Fees\")\n",
    "plt.show()"
   ]
  },
  {
   "cell_type": "markdown",
   "metadata": {},
   "source": [
    "Observations: We can see that highest rating does not provide highest fees.The Highest fees are provided to ratings 4 and 5"
   ]
  },
  {
   "cell_type": "code",
   "execution_count": 35,
   "metadata": {},
   "outputs": [
    {
     "data": {
      "image/png": "[encoded data removed]",
      "text/plain": [
       "<Figure size 720x576 with 1 Axes>"
      ]
     },
     "metadata": {
      "needs_background": "light"
     },
     "output_type": "display_data"
    }
   ],
   "source": [
    "plt.figure(figsize=(10,8))\n",
    "ax = sns.lineplot(x='Experience',y='Fees',data=train)\n",
    "ax.set_title(\"Experience wrt doctor Fees\")\n",
    "plt.show()"
   ]
  },
  {
   "cell_type": "markdown",
   "metadata": {},
   "source": [
    "Observations:\n",
    "    we can observe that the highest fees are paid to the doctors having experience from 50 to 55 years"
   ]
  },
  {
   "cell_type": "code",
   "execution_count": 36,
   "metadata": {},
   "outputs": [
    {
     "data": {
      "image/png": "[encoded data removed]",
      "text/plain": [
       "<Figure size 576x576 with 1 Axes>"
      ]
     },
     "metadata": {
      "needs_background": "light"
     },
     "output_type": "display_data"
    }
   ],
   "source": [
    "plt.figure(figsize=(8,8))\n",
    "sns.barplot(x='Rating',y='Experience',data=train,palette='magma')\n",
    "plt.show()"
   ]
  },
  {
   "cell_type": "markdown",
   "metadata": {},
   "source": [
    "Observations:\n",
    "    The highest rating is given to doctors having experience of 15 to 20 years"
   ]
  },
  {
   "cell_type": "markdown",
   "metadata": {},
   "source": [
    "Let us encode the categorical columns profile and city"
   ]
  },
  {
   "cell_type": "code",
   "execution_count": 37,
   "metadata": {},
   "outputs": [],
   "source": [
    "from sklearn import preprocessing\n",
    "Le = preprocessing.LabelEncoder()"
   ]
  },
  {
   "cell_type": "code",
   "execution_count": 38,
   "metadata": {},
   "outputs": [],
   "source": [
    "train['city']=Le.fit_transform(train['city'])"
   ]
  },
  {
   "cell_type": "code",
   "execution_count": 39,
   "metadata": {},
   "outputs": [],
   "source": [
    "train['Profile']=Le.fit_transform(train['Profile'])"
   ]
  },
  {
   "cell_type": "code",
   "execution_count": 40,
   "metadata": {},
   "outputs": [
    {
     "data": {
      "text/html": [
       "<div>\n",
       "<style scoped>\n",
       "    .dataframe tbody tr th:only-of-type {\n",
       "        vertical-align: middle;\n",
       "    }\n",
       "\n",
       "    .dataframe tbody tr th {\n",
       "        vertical-align: top;\n",
       "    }\n",
       "\n",
       "    .dataframe thead th {\n",
       "        text-align: right;\n",
       "    }\n",
       "</style>\n",
       "<table border=\"1\" class=\"dataframe\">\n",
       "  <thead>\n",
       "    <tr style=\"text-align: right;\">\n",
       "      <th></th>\n",
       "      <th>Experience</th>\n",
       "      <th>Rating</th>\n",
       "      <th>Profile</th>\n",
       "      <th>Miscellaneous_Info</th>\n",
       "      <th>Fees</th>\n",
       "      <th>area</th>\n",
       "      <th>city</th>\n",
       "      <th>MBBS</th>\n",
       "      <th>BDS</th>\n",
       "      <th>BAMS</th>\n",
       "      <th>BHMS</th>\n",
       "      <th>MD - Dermatology</th>\n",
       "      <th>MS - ENT</th>\n",
       "      <th>Venereology &amp; Leprosy</th>\n",
       "      <th>MD - General Medicine</th>\n",
       "      <th>Diploma in Otorhinolaryngology (DLO)</th>\n",
       "      <th>MD - Homeopathy</th>\n",
       "    </tr>\n",
       "  </thead>\n",
       "  <tbody>\n",
       "    <tr>\n",
       "      <th>0</th>\n",
       "      <td>24</td>\n",
       "      <td>10</td>\n",
       "      <td>5</td>\n",
       "      <td>100% 16 Feedback Kakkanad, Ernakulam</td>\n",
       "      <td>100</td>\n",
       "      <td>Kakkanad</td>\n",
       "      <td>4</td>\n",
       "      <td>0</td>\n",
       "      <td>0</td>\n",
       "      <td>0</td>\n",
       "      <td>1</td>\n",
       "      <td>0</td>\n",
       "      <td>0</td>\n",
       "      <td>0</td>\n",
       "      <td>0</td>\n",
       "      <td>0</td>\n",
       "      <td>1</td>\n",
       "    </tr>\n",
       "    <tr>\n",
       "      <th>1</th>\n",
       "      <td>12</td>\n",
       "      <td>10</td>\n",
       "      <td>0</td>\n",
       "      <td>98% 76 Feedback Whitefield, Bangalore</td>\n",
       "      <td>350</td>\n",
       "      <td>Whitefield</td>\n",
       "      <td>0</td>\n",
       "      <td>0</td>\n",
       "      <td>0</td>\n",
       "      <td>1</td>\n",
       "      <td>0</td>\n",
       "      <td>0</td>\n",
       "      <td>0</td>\n",
       "      <td>0</td>\n",
       "      <td>0</td>\n",
       "      <td>0</td>\n",
       "      <td>0</td>\n",
       "    </tr>\n",
       "    <tr>\n",
       "      <th>2</th>\n",
       "      <td>9</td>\n",
       "      <td>0</td>\n",
       "      <td>3</td>\n",
       "      <td>NaN</td>\n",
       "      <td>300</td>\n",
       "      <td>Mathikere - BEL</td>\n",
       "      <td>0</td>\n",
       "      <td>1</td>\n",
       "      <td>0</td>\n",
       "      <td>0</td>\n",
       "      <td>0</td>\n",
       "      <td>0</td>\n",
       "      <td>0</td>\n",
       "      <td>0</td>\n",
       "      <td>0</td>\n",
       "      <td>0</td>\n",
       "      <td>0</td>\n",
       "    </tr>\n",
       "    <tr>\n",
       "      <th>3</th>\n",
       "      <td>12</td>\n",
       "      <td>0</td>\n",
       "      <td>0</td>\n",
       "      <td>Bannerghatta Road, Bangalore ₹250 Available on...</td>\n",
       "      <td>250</td>\n",
       "      <td>Bannerghatta Road</td>\n",
       "      <td>0</td>\n",
       "      <td>0</td>\n",
       "      <td>0</td>\n",
       "      <td>1</td>\n",
       "      <td>0</td>\n",
       "      <td>0</td>\n",
       "      <td>0</td>\n",
       "      <td>0</td>\n",
       "      <td>0</td>\n",
       "      <td>0</td>\n",
       "      <td>0</td>\n",
       "    </tr>\n",
       "    <tr>\n",
       "      <th>4</th>\n",
       "      <td>20</td>\n",
       "      <td>10</td>\n",
       "      <td>0</td>\n",
       "      <td>100% 4 Feedback Keelkattalai, Chennai</td>\n",
       "      <td>250</td>\n",
       "      <td>Keelkattalai</td>\n",
       "      <td>1</td>\n",
       "      <td>0</td>\n",
       "      <td>0</td>\n",
       "      <td>1</td>\n",
       "      <td>0</td>\n",
       "      <td>0</td>\n",
       "      <td>0</td>\n",
       "      <td>0</td>\n",
       "      <td>0</td>\n",
       "      <td>0</td>\n",
       "      <td>0</td>\n",
       "    </tr>\n",
       "  </tbody>\n",
       "</table>\n",
       "</div>"
      ],
      "text/plain": [
       "   Experience Rating  Profile  \\\n",
       "0          24     10        5   \n",
       "1          12     10        0   \n",
       "2           9      0        3   \n",
       "3          12      0        0   \n",
       "4          20     10        0   \n",
       "\n",
       "                                  Miscellaneous_Info  Fees               area  \\\n",
       "0               100% 16 Feedback Kakkanad, Ernakulam   100           Kakkanad   \n",
       "1              98% 76 Feedback Whitefield, Bangalore   350         Whitefield   \n",
       "2                                                NaN   300    Mathikere - BEL   \n",
       "3  Bannerghatta Road, Bangalore ₹250 Available on...   250  Bannerghatta Road   \n",
       "4              100% 4 Feedback Keelkattalai, Chennai   250       Keelkattalai   \n",
       "\n",
       "   city  MBBS  BDS  BAMS  BHMS  MD - Dermatology  MS - ENT  \\\n",
       "0     4     0    0     0     1                 0         0   \n",
       "1     0     0    0     1     0                 0         0   \n",
       "2     0     1    0     0     0                 0         0   \n",
       "3     0     0    0     1     0                 0         0   \n",
       "4     1     0    0     1     0                 0         0   \n",
       "\n",
       "   Venereology & Leprosy  MD - General Medicine  \\\n",
       "0                      0                      0   \n",
       "1                      0                      0   \n",
       "2                      0                      0   \n",
       "3                      0                      0   \n",
       "4                      0                      0   \n",
       "\n",
       "   Diploma in Otorhinolaryngology (DLO)  MD - Homeopathy  \n",
       "0                                     0                1  \n",
       "1                                     0                0  \n",
       "2                                     0                0  \n",
       "3                                     0                0  \n",
       "4                                     0                0  "
      ]
     },
     "execution_count": 40,
     "metadata": {},
     "output_type": "execute_result"
    }
   ],
   "source": [
    "train.head()"
   ]
  },
  {
   "cell_type": "markdown",
   "metadata": {},
   "source": [
    "Data Cleaning: We can drop the columns Miscellaneious_info as it has messy data, and also we can drop area column as city has better data reffering the cities."
   ]
  },
  {
   "cell_type": "code",
   "execution_count": 41,
   "metadata": {},
   "outputs": [],
   "source": [
    "train.drop(['area','Miscellaneous_Info'],axis=1,inplace=True)"
   ]
  },
  {
   "cell_type": "code",
   "execution_count": 42,
   "metadata": {},
   "outputs": [
    {
     "data": {
      "text/html": [
       "<div>\n",
       "<style scoped>\n",
       "    .dataframe tbody tr th:only-of-type {\n",
       "        vertical-align: middle;\n",
       "    }\n",
       "\n",
       "    .dataframe tbody tr th {\n",
       "        vertical-align: top;\n",
       "    }\n",
       "\n",
       "    .dataframe thead th {\n",
       "        text-align: right;\n",
       "    }\n",
       "</style>\n",
       "<table border=\"1\" class=\"dataframe\">\n",
       "  <thead>\n",
       "    <tr style=\"text-align: right;\">\n",
       "      <th></th>\n",
       "      <th>Experience</th>\n",
       "      <th>Rating</th>\n",
       "      <th>Profile</th>\n",
       "      <th>Fees</th>\n",
       "      <th>city</th>\n",
       "      <th>MBBS</th>\n",
       "      <th>BDS</th>\n",
       "      <th>BAMS</th>\n",
       "      <th>BHMS</th>\n",
       "      <th>MD - Dermatology</th>\n",
       "      <th>MS - ENT</th>\n",
       "      <th>Venereology &amp; Leprosy</th>\n",
       "      <th>MD - General Medicine</th>\n",
       "      <th>Diploma in Otorhinolaryngology (DLO)</th>\n",
       "      <th>MD - Homeopathy</th>\n",
       "    </tr>\n",
       "  </thead>\n",
       "  <tbody>\n",
       "    <tr>\n",
       "      <th>0</th>\n",
       "      <td>24</td>\n",
       "      <td>10</td>\n",
       "      <td>5</td>\n",
       "      <td>100</td>\n",
       "      <td>4</td>\n",
       "      <td>0</td>\n",
       "      <td>0</td>\n",
       "      <td>0</td>\n",
       "      <td>1</td>\n",
       "      <td>0</td>\n",
       "      <td>0</td>\n",
       "      <td>0</td>\n",
       "      <td>0</td>\n",
       "      <td>0</td>\n",
       "      <td>1</td>\n",
       "    </tr>\n",
       "    <tr>\n",
       "      <th>1</th>\n",
       "      <td>12</td>\n",
       "      <td>10</td>\n",
       "      <td>0</td>\n",
       "      <td>350</td>\n",
       "      <td>0</td>\n",
       "      <td>0</td>\n",
       "      <td>0</td>\n",
       "      <td>1</td>\n",
       "      <td>0</td>\n",
       "      <td>0</td>\n",
       "      <td>0</td>\n",
       "      <td>0</td>\n",
       "      <td>0</td>\n",
       "      <td>0</td>\n",
       "      <td>0</td>\n",
       "    </tr>\n",
       "    <tr>\n",
       "      <th>2</th>\n",
       "      <td>9</td>\n",
       "      <td>0</td>\n",
       "      <td>3</td>\n",
       "      <td>300</td>\n",
       "      <td>0</td>\n",
       "      <td>1</td>\n",
       "      <td>0</td>\n",
       "      <td>0</td>\n",
       "      <td>0</td>\n",
       "      <td>0</td>\n",
       "      <td>0</td>\n",
       "      <td>0</td>\n",
       "      <td>0</td>\n",
       "      <td>0</td>\n",
       "      <td>0</td>\n",
       "    </tr>\n",
       "    <tr>\n",
       "      <th>3</th>\n",
       "      <td>12</td>\n",
       "      <td>0</td>\n",
       "      <td>0</td>\n",
       "      <td>250</td>\n",
       "      <td>0</td>\n",
       "      <td>0</td>\n",
       "      <td>0</td>\n",
       "      <td>1</td>\n",
       "      <td>0</td>\n",
       "      <td>0</td>\n",
       "      <td>0</td>\n",
       "      <td>0</td>\n",
       "      <td>0</td>\n",
       "      <td>0</td>\n",
       "      <td>0</td>\n",
       "    </tr>\n",
       "    <tr>\n",
       "      <th>4</th>\n",
       "      <td>20</td>\n",
       "      <td>10</td>\n",
       "      <td>0</td>\n",
       "      <td>250</td>\n",
       "      <td>1</td>\n",
       "      <td>0</td>\n",
       "      <td>0</td>\n",
       "      <td>1</td>\n",
       "      <td>0</td>\n",
       "      <td>0</td>\n",
       "      <td>0</td>\n",
       "      <td>0</td>\n",
       "      <td>0</td>\n",
       "      <td>0</td>\n",
       "      <td>0</td>\n",
       "    </tr>\n",
       "  </tbody>\n",
       "</table>\n",
       "</div>"
      ],
      "text/plain": [
       "   Experience Rating  Profile  Fees  city  MBBS  BDS  BAMS  BHMS  \\\n",
       "0          24     10        5   100     4     0    0     0     1   \n",
       "1          12     10        0   350     0     0    0     1     0   \n",
       "2           9      0        3   300     0     1    0     0     0   \n",
       "3          12      0        0   250     0     0    0     1     0   \n",
       "4          20     10        0   250     1     0    0     1     0   \n",
       "\n",
       "   MD - Dermatology  MS - ENT  Venereology & Leprosy  MD - General Medicine  \\\n",
       "0                 0         0                      0                      0   \n",
       "1                 0         0                      0                      0   \n",
       "2                 0         0                      0                      0   \n",
       "3                 0         0                      0                      0   \n",
       "4                 0         0                      0                      0   \n",
       "\n",
       "   Diploma in Otorhinolaryngology (DLO)  MD - Homeopathy  \n",
       "0                                     0                1  \n",
       "1                                     0                0  \n",
       "2                                     0                0  \n",
       "3                                     0                0  \n",
       "4                                     0                0  "
      ]
     },
     "execution_count": 42,
     "metadata": {},
     "output_type": "execute_result"
    }
   ],
   "source": [
    "train.head()"
   ]
  },
  {
   "cell_type": "markdown",
   "metadata": {},
   "source": [
    "Checking Correlation:"
   ]
  },
  {
   "cell_type": "code",
   "execution_count": 43,
   "metadata": {},
   "outputs": [
    {
     "data": {
      "text/html": [
       "<div>\n",
       "<style scoped>\n",
       "    .dataframe tbody tr th:only-of-type {\n",
       "        vertical-align: middle;\n",
       "    }\n",
       "\n",
       "    .dataframe tbody tr th {\n",
       "        vertical-align: top;\n",
       "    }\n",
       "\n",
       "    .dataframe thead th {\n",
       "        text-align: right;\n",
       "    }\n",
       "</style>\n",
       "<table border=\"1\" class=\"dataframe\">\n",
       "  <thead>\n",
       "    <tr style=\"text-align: right;\">\n",
       "      <th></th>\n",
       "      <th>Experience</th>\n",
       "      <th>Profile</th>\n",
       "      <th>Fees</th>\n",
       "      <th>city</th>\n",
       "      <th>MBBS</th>\n",
       "      <th>BDS</th>\n",
       "      <th>BAMS</th>\n",
       "      <th>BHMS</th>\n",
       "      <th>MD - Dermatology</th>\n",
       "      <th>MS - ENT</th>\n",
       "      <th>Venereology &amp; Leprosy</th>\n",
       "      <th>MD - General Medicine</th>\n",
       "      <th>Diploma in Otorhinolaryngology (DLO)</th>\n",
       "      <th>MD - Homeopathy</th>\n",
       "    </tr>\n",
       "  </thead>\n",
       "  <tbody>\n",
       "    <tr>\n",
       "      <th>Experience</th>\n",
       "      <td>1.000000</td>\n",
       "      <td>0.202073</td>\n",
       "      <td>0.002117</td>\n",
       "      <td>0.017615</td>\n",
       "      <td>0.271347</td>\n",
       "      <td>-0.196268</td>\n",
       "      <td>-0.047150</td>\n",
       "      <td>-0.114191</td>\n",
       "      <td>-0.067704</td>\n",
       "      <td>0.093778</td>\n",
       "      <td>-0.120213</td>\n",
       "      <td>0.097549</td>\n",
       "      <td>0.111103</td>\n",
       "      <td>0.008510</td>\n",
       "    </tr>\n",
       "    <tr>\n",
       "      <th>Profile</th>\n",
       "      <td>0.202073</td>\n",
       "      <td>1.000000</td>\n",
       "      <td>0.145226</td>\n",
       "      <td>-0.015026</td>\n",
       "      <td>0.355290</td>\n",
       "      <td>-0.473295</td>\n",
       "      <td>-0.559943</td>\n",
       "      <td>0.583268</td>\n",
       "      <td>-0.087903</td>\n",
       "      <td>0.093610</td>\n",
       "      <td>-0.059195</td>\n",
       "      <td>0.203958</td>\n",
       "      <td>0.076358</td>\n",
       "      <td>0.273052</td>\n",
       "    </tr>\n",
       "    <tr>\n",
       "      <th>Fees</th>\n",
       "      <td>0.002117</td>\n",
       "      <td>0.145226</td>\n",
       "      <td>1.000000</td>\n",
       "      <td>-0.035898</td>\n",
       "      <td>0.271038</td>\n",
       "      <td>-0.198635</td>\n",
       "      <td>-0.139891</td>\n",
       "      <td>-0.002423</td>\n",
       "      <td>0.163811</td>\n",
       "      <td>0.128413</td>\n",
       "      <td>0.113091</td>\n",
       "      <td>0.040921</td>\n",
       "      <td>0.011560</td>\n",
       "      <td>0.018601</td>\n",
       "    </tr>\n",
       "    <tr>\n",
       "      <th>city</th>\n",
       "      <td>0.017615</td>\n",
       "      <td>-0.015026</td>\n",
       "      <td>-0.035898</td>\n",
       "      <td>1.000000</td>\n",
       "      <td>-0.062930</td>\n",
       "      <td>-0.015428</td>\n",
       "      <td>0.045055</td>\n",
       "      <td>0.016755</td>\n",
       "      <td>-0.012996</td>\n",
       "      <td>-0.026247</td>\n",
       "      <td>-0.001778</td>\n",
       "      <td>-0.003625</td>\n",
       "      <td>-0.085126</td>\n",
       "      <td>0.032806</td>\n",
       "    </tr>\n",
       "    <tr>\n",
       "      <th>MBBS</th>\n",
       "      <td>0.271347</td>\n",
       "      <td>0.355290</td>\n",
       "      <td>0.271038</td>\n",
       "      <td>-0.062930</td>\n",
       "      <td>1.000000</td>\n",
       "      <td>-0.512244</td>\n",
       "      <td>-0.358911</td>\n",
       "      <td>-0.355083</td>\n",
       "      <td>0.314207</td>\n",
       "      <td>0.263449</td>\n",
       "      <td>0.213185</td>\n",
       "      <td>0.220358</td>\n",
       "      <td>0.206347</td>\n",
       "      <td>-0.164871</td>\n",
       "    </tr>\n",
       "    <tr>\n",
       "      <th>BDS</th>\n",
       "      <td>-0.196268</td>\n",
       "      <td>-0.473295</td>\n",
       "      <td>-0.198635</td>\n",
       "      <td>-0.015428</td>\n",
       "      <td>-0.512244</td>\n",
       "      <td>1.000000</td>\n",
       "      <td>-0.208341</td>\n",
       "      <td>-0.206141</td>\n",
       "      <td>-0.182900</td>\n",
       "      <td>-0.148092</td>\n",
       "      <td>-0.123730</td>\n",
       "      <td>-0.121943</td>\n",
       "      <td>-0.113622</td>\n",
       "      <td>-0.096301</td>\n",
       "    </tr>\n",
       "    <tr>\n",
       "      <th>BAMS</th>\n",
       "      <td>-0.047150</td>\n",
       "      <td>-0.559943</td>\n",
       "      <td>-0.139891</td>\n",
       "      <td>0.045055</td>\n",
       "      <td>-0.358911</td>\n",
       "      <td>-0.208341</td>\n",
       "      <td>1.000000</td>\n",
       "      <td>-0.145019</td>\n",
       "      <td>-0.128669</td>\n",
       "      <td>-0.104182</td>\n",
       "      <td>-0.087044</td>\n",
       "      <td>-0.078722</td>\n",
       "      <td>-0.079932</td>\n",
       "      <td>-0.067747</td>\n",
       "    </tr>\n",
       "    <tr>\n",
       "      <th>BHMS</th>\n",
       "      <td>-0.114191</td>\n",
       "      <td>0.583268</td>\n",
       "      <td>-0.002423</td>\n",
       "      <td>0.016755</td>\n",
       "      <td>-0.355083</td>\n",
       "      <td>-0.206141</td>\n",
       "      <td>-0.145019</td>\n",
       "      <td>1.000000</td>\n",
       "      <td>-0.127311</td>\n",
       "      <td>-0.103082</td>\n",
       "      <td>-0.086124</td>\n",
       "      <td>-0.077760</td>\n",
       "      <td>-0.079088</td>\n",
       "      <td>0.349109</td>\n",
       "    </tr>\n",
       "    <tr>\n",
       "      <th>MD - Dermatology</th>\n",
       "      <td>-0.067704</td>\n",
       "      <td>-0.087903</td>\n",
       "      <td>0.163811</td>\n",
       "      <td>-0.012996</td>\n",
       "      <td>0.314207</td>\n",
       "      <td>-0.182900</td>\n",
       "      <td>-0.128669</td>\n",
       "      <td>-0.127311</td>\n",
       "      <td>1.000000</td>\n",
       "      <td>-0.091460</td>\n",
       "      <td>0.637946</td>\n",
       "      <td>-0.075311</td>\n",
       "      <td>-0.064618</td>\n",
       "      <td>-0.059475</td>\n",
       "    </tr>\n",
       "    <tr>\n",
       "      <th>MS - ENT</th>\n",
       "      <td>0.093778</td>\n",
       "      <td>0.093610</td>\n",
       "      <td>0.128413</td>\n",
       "      <td>-0.026247</td>\n",
       "      <td>0.263449</td>\n",
       "      <td>-0.148092</td>\n",
       "      <td>-0.104182</td>\n",
       "      <td>-0.103082</td>\n",
       "      <td>-0.091460</td>\n",
       "      <td>1.000000</td>\n",
       "      <td>-0.061872</td>\n",
       "      <td>-0.060978</td>\n",
       "      <td>0.168226</td>\n",
       "      <td>-0.048156</td>\n",
       "    </tr>\n",
       "    <tr>\n",
       "      <th>Venereology &amp; Leprosy</th>\n",
       "      <td>-0.120213</td>\n",
       "      <td>-0.059195</td>\n",
       "      <td>0.113091</td>\n",
       "      <td>-0.001778</td>\n",
       "      <td>0.213185</td>\n",
       "      <td>-0.123730</td>\n",
       "      <td>-0.087044</td>\n",
       "      <td>-0.086124</td>\n",
       "      <td>0.637946</td>\n",
       "      <td>-0.061872</td>\n",
       "      <td>1.000000</td>\n",
       "      <td>-0.050947</td>\n",
       "      <td>-0.039713</td>\n",
       "      <td>-0.040234</td>\n",
       "    </tr>\n",
       "    <tr>\n",
       "      <th>MD - General Medicine</th>\n",
       "      <td>0.097549</td>\n",
       "      <td>0.203958</td>\n",
       "      <td>0.040921</td>\n",
       "      <td>-0.003625</td>\n",
       "      <td>0.220358</td>\n",
       "      <td>-0.121943</td>\n",
       "      <td>-0.078722</td>\n",
       "      <td>-0.077760</td>\n",
       "      <td>-0.075311</td>\n",
       "      <td>-0.060978</td>\n",
       "      <td>-0.050947</td>\n",
       "      <td>1.000000</td>\n",
       "      <td>-0.046785</td>\n",
       "      <td>-0.039653</td>\n",
       "    </tr>\n",
       "    <tr>\n",
       "      <th>Diploma in Otorhinolaryngology (DLO)</th>\n",
       "      <td>0.111103</td>\n",
       "      <td>0.076358</td>\n",
       "      <td>0.011560</td>\n",
       "      <td>-0.085126</td>\n",
       "      <td>0.206347</td>\n",
       "      <td>-0.113622</td>\n",
       "      <td>-0.079932</td>\n",
       "      <td>-0.079088</td>\n",
       "      <td>-0.064618</td>\n",
       "      <td>0.168226</td>\n",
       "      <td>-0.039713</td>\n",
       "      <td>-0.046785</td>\n",
       "      <td>1.000000</td>\n",
       "      <td>-0.036947</td>\n",
       "    </tr>\n",
       "    <tr>\n",
       "      <th>MD - Homeopathy</th>\n",
       "      <td>0.008510</td>\n",
       "      <td>0.273052</td>\n",
       "      <td>0.018601</td>\n",
       "      <td>0.032806</td>\n",
       "      <td>-0.164871</td>\n",
       "      <td>-0.096301</td>\n",
       "      <td>-0.067747</td>\n",
       "      <td>0.349109</td>\n",
       "      <td>-0.059475</td>\n",
       "      <td>-0.048156</td>\n",
       "      <td>-0.040234</td>\n",
       "      <td>-0.039653</td>\n",
       "      <td>-0.036947</td>\n",
       "      <td>1.000000</td>\n",
       "    </tr>\n",
       "  </tbody>\n",
       "</table>\n",
       "</div>"
      ],
      "text/plain": [
       "                                      Experience   Profile      Fees  \\\n",
       "Experience                              1.000000  0.202073  0.002117   \n",
       "Profile                                 0.202073  1.000000  0.145226   \n",
       "Fees                                    0.002117  0.145226  1.000000   \n",
       "city                                    0.017615 -0.015026 -0.035898   \n",
       "MBBS                                    0.271347  0.355290  0.271038   \n",
       "BDS                                    -0.196268 -0.473295 -0.198635   \n",
       "BAMS                                   -0.047150 -0.559943 -0.139891   \n",
       "BHMS                                   -0.114191  0.583268 -0.002423   \n",
       "MD - Dermatology                       -0.067704 -0.087903  0.163811   \n",
       "MS - ENT                                0.093778  0.093610  0.128413   \n",
       "Venereology & Leprosy                  -0.120213 -0.059195  0.113091   \n",
       "MD - General Medicine                   0.097549  0.203958  0.040921   \n",
       "Diploma in Otorhinolaryngology (DLO)    0.111103  0.076358  0.011560   \n",
       "MD - Homeopathy                         0.008510  0.273052  0.018601   \n",
       "\n",
       "                                          city      MBBS       BDS      BAMS  \\\n",
       "Experience                            0.017615  0.271347 -0.196268 -0.047150   \n",
       "Profile                              -0.015026  0.355290 -0.473295 -0.559943   \n",
       "Fees                                 -0.035898  0.271038 -0.198635 -0.139891   \n",
       "city                                  1.000000 -0.062930 -0.015428  0.045055   \n",
       "MBBS                                 -0.062930  1.000000 -0.512244 -0.358911   \n",
       "BDS                                  -0.015428 -0.512244  1.000000 -0.208341   \n",
       "BAMS                                  0.045055 -0.358911 -0.208341  1.000000   \n",
       "BHMS                                  0.016755 -0.355083 -0.206141 -0.145019   \n",
       "MD - Dermatology                     -0.012996  0.314207 -0.182900 -0.128669   \n",
       "MS - ENT                             -0.026247  0.263449 -0.148092 -0.104182   \n",
       "Venereology & Leprosy                -0.001778  0.213185 -0.123730 -0.087044   \n",
       "MD - General Medicine                -0.003625  0.220358 -0.121943 -0.078722   \n",
       "Diploma in Otorhinolaryngology (DLO) -0.085126  0.206347 -0.113622 -0.079932   \n",
       "MD - Homeopathy                       0.032806 -0.164871 -0.096301 -0.067747   \n",
       "\n",
       "                                          BHMS  MD - Dermatology  MS - ENT  \\\n",
       "Experience                           -0.114191         -0.067704  0.093778   \n",
       "Profile                               0.583268         -0.087903  0.093610   \n",
       "Fees                                 -0.002423          0.163811  0.128413   \n",
       "city                                  0.016755         -0.012996 -0.026247   \n",
       "MBBS                                 -0.355083          0.314207  0.263449   \n",
       "BDS                                  -0.206141         -0.182900 -0.148092   \n",
       "BAMS                                 -0.145019         -0.128669 -0.104182   \n",
       "BHMS                                  1.000000         -0.127311 -0.103082   \n",
       "MD - Dermatology                     -0.127311          1.000000 -0.091460   \n",
       "MS - ENT                             -0.103082         -0.091460  1.000000   \n",
       "Venereology & Leprosy                -0.086124          0.637946 -0.061872   \n",
       "MD - General Medicine                -0.077760         -0.075311 -0.060978   \n",
       "Diploma in Otorhinolaryngology (DLO) -0.079088         -0.064618  0.168226   \n",
       "MD - Homeopathy                       0.349109         -0.059475 -0.048156   \n",
       "\n",
       "                                      Venereology & Leprosy  \\\n",
       "Experience                                        -0.120213   \n",
       "Profile                                           -0.059195   \n",
       "Fees                                               0.113091   \n",
       "city                                              -0.001778   \n",
       "MBBS                                               0.213185   \n",
       "BDS                                               -0.123730   \n",
       "BAMS                                              -0.087044   \n",
       "BHMS                                              -0.086124   \n",
       "MD - Dermatology                                   0.637946   \n",
       "MS - ENT                                          -0.061872   \n",
       "Venereology & Leprosy                              1.000000   \n",
       "MD - General Medicine                             -0.050947   \n",
       "Diploma in Otorhinolaryngology (DLO)              -0.039713   \n",
       "MD - Homeopathy                                   -0.040234   \n",
       "\n",
       "                                      MD - General Medicine  \\\n",
       "Experience                                         0.097549   \n",
       "Profile                                            0.203958   \n",
       "Fees                                               0.040921   \n",
       "city                                              -0.003625   \n",
       "MBBS                                               0.220358   \n",
       "BDS                                               -0.121943   \n",
       "BAMS                                              -0.078722   \n",
       "BHMS                                              -0.077760   \n",
       "MD - Dermatology                                  -0.075311   \n",
       "MS - ENT                                          -0.060978   \n",
       "Venereology & Leprosy                             -0.050947   \n",
       "MD - General Medicine                              1.000000   \n",
       "Diploma in Otorhinolaryngology (DLO)              -0.046785   \n",
       "MD - Homeopathy                                   -0.039653   \n",
       "\n",
       "                                      Diploma in Otorhinolaryngology (DLO)  \\\n",
       "Experience                                                        0.111103   \n",
       "Profile                                                           0.076358   \n",
       "Fees                                                              0.011560   \n",
       "city                                                             -0.085126   \n",
       "MBBS                                                              0.206347   \n",
       "BDS                                                              -0.113622   \n",
       "BAMS                                                             -0.079932   \n",
       "BHMS                                                             -0.079088   \n",
       "MD - Dermatology                                                 -0.064618   \n",
       "MS - ENT                                                          0.168226   \n",
       "Venereology & Leprosy                                            -0.039713   \n",
       "MD - General Medicine                                            -0.046785   \n",
       "Diploma in Otorhinolaryngology (DLO)                              1.000000   \n",
       "MD - Homeopathy                                                  -0.036947   \n",
       "\n",
       "                                      MD - Homeopathy  \n",
       "Experience                                   0.008510  \n",
       "Profile                                      0.273052  \n",
       "Fees                                         0.018601  \n",
       "city                                         0.032806  \n",
       "MBBS                                        -0.164871  \n",
       "BDS                                         -0.096301  \n",
       "BAMS                                        -0.067747  \n",
       "BHMS                                         0.349109  \n",
       "MD - Dermatology                            -0.059475  \n",
       "MS - ENT                                    -0.048156  \n",
       "Venereology & Leprosy                       -0.040234  \n",
       "MD - General Medicine                       -0.039653  \n",
       "Diploma in Otorhinolaryngology (DLO)        -0.036947  \n",
       "MD - Homeopathy                              1.000000  "
      ]
     },
     "execution_count": 43,
     "metadata": {},
     "output_type": "execute_result"
    }
   ],
   "source": [
    "train.corr()"
   ]
  },
  {
   "cell_type": "code",
   "execution_count": 44,
   "metadata": {},
   "outputs": [
    {
     "data": {
      "text/plain": [
       "<matplotlib.axes._subplots.AxesSubplot at 0x23cf5c0f3d0>"
      ]
     },
     "execution_count": 44,
     "metadata": {},
     "output_type": "execute_result"
    },
    {
     "data": {
      "image/png": "[encoded data removed]",
      "text/plain": [
       "<Figure size 1080x576 with 2 Axes>"
      ]
     },
     "metadata": {
      "needs_background": "light"
     },
     "output_type": "display_data"
    }
   ],
   "source": [
    "import matplotlib.pyplot as plt\n",
    "import seaborn as sns\n",
    "plt.figure(figsize=(15,8))\n",
    "sns.heatmap(train.corr(),linewidth=2.5,annot=True,linecolor=\"black\")"
   ]
  },
  {
   "cell_type": "markdown",
   "metadata": {},
   "source": [
    "Checking Skewness:"
   ]
  },
  {
   "cell_type": "code",
   "execution_count": 45,
   "metadata": {},
   "outputs": [
    {
     "data": {
      "text/plain": [
       "Experience                              0.991089\n",
       "Rating                                  0.240670\n",
       "Profile                                 0.108803\n",
       "Fees                                    0.751870\n",
       "city                                    0.010640\n",
       "MBBS                                    0.118000\n",
       "BDS                                     1.293695\n",
       "BAMS                                    2.229777\n",
       "BHMS                                    2.261706\n",
       "MD - Dermatology                        2.639954\n",
       "MS - ENT                                3.403459\n",
       "Venereology & Leprosy                   4.171950\n",
       "MD - General Medicine                   4.239699\n",
       "Diploma in Otorhinolaryngology (DLO)    4.581912\n",
       "MD - Homeopathy                         5.475409\n",
       "dtype: float64"
      ]
     },
     "execution_count": 45,
     "metadata": {},
     "output_type": "execute_result"
    }
   ],
   "source": [
    "train.skew()"
   ]
  },
  {
   "cell_type": "markdown",
   "metadata": {},
   "source": [
    "Observations: we can observe many of the columns are having skewness."
   ]
  },
  {
   "cell_type": "markdown",
   "metadata": {},
   "source": [
    "Splitting the data frame into train test split to build a model"
   ]
  },
  {
   "cell_type": "code",
   "execution_count": 46,
   "metadata": {},
   "outputs": [],
   "source": [
    "x=train.drop(['Fees'],axis=1)\n",
    "y=train['Fees']"
   ]
  },
  {
   "cell_type": "markdown",
   "metadata": {},
   "source": [
    "Removing Skewness through power transform"
   ]
  },
  {
   "cell_type": "code",
   "execution_count": 47,
   "metadata": {},
   "outputs": [],
   "source": [
    "from sklearn.preprocessing import power_transform\n",
    "x=power_transform(x,method='yeo-johnson')"
   ]
  },
  {
   "cell_type": "code",
   "execution_count": 48,
   "metadata": {},
   "outputs": [
    {
     "data": {
      "text/plain": [
       "array([[ 0.73735682,  1.13034564,  1.42055919, ..., -0.22407904,\n",
       "        -0.20878802,  5.65099121],\n",
       "       [-0.32517958,  1.13034564, -1.64414533, ..., -0.22407904,\n",
       "        -0.20878802, -0.17696011],\n",
       "       [-0.68837382, -0.89678878,  0.41883046, ..., -0.22407904,\n",
       "        -0.20878802, -0.17696011],\n",
       "       ...,\n",
       "       [ 1.76899411,  1.13034564,  0.94015599, ..., -0.22407904,\n",
       "        -0.20878802, -0.17696011],\n",
       "       [-0.0134478 ,  1.07300269,  0.94015599, ...,  4.462711  ,\n",
       "        -0.20878802, -0.17696011],\n",
       "       [ 0.17358896,  1.13034564, -0.82224914, ..., -0.22407904,\n",
       "        -0.20878802, -0.17696011]])"
      ]
     },
     "execution_count": 48,
     "metadata": {},
     "output_type": "execute_result"
    }
   ],
   "source": [
    "x"
   ]
  },
  {
   "cell_type": "markdown",
   "metadata": {},
   "source": [
    "Standard Scaling:"
   ]
  },
  {
   "cell_type": "code",
   "execution_count": 49,
   "metadata": {},
   "outputs": [],
   "source": [
    "from sklearn import preprocessing\n",
    "scale=preprocessing.StandardScaler()"
   ]
  },
  {
   "cell_type": "code",
   "execution_count": 50,
   "metadata": {},
   "outputs": [],
   "source": [
    "x=scale.fit_transform(x)"
   ]
  },
  {
   "cell_type": "code",
   "execution_count": 51,
   "metadata": {},
   "outputs": [
    {
     "data": {
      "text/plain": [
       "array([[ 0.73735682,  1.13034564,  1.42055919, ..., -0.22407904,\n",
       "        -0.20878802,  5.65099121],\n",
       "       [-0.32517958,  1.13034564, -1.64414533, ..., -0.22407904,\n",
       "        -0.20878802, -0.17696011],\n",
       "       [-0.68837382, -0.89678878,  0.41883046, ..., -0.22407904,\n",
       "        -0.20878802, -0.17696011],\n",
       "       ...,\n",
       "       [ 1.76899411,  1.13034564,  0.94015599, ..., -0.22407904,\n",
       "        -0.20878802, -0.17696011],\n",
       "       [-0.0134478 ,  1.07300269,  0.94015599, ...,  4.462711  ,\n",
       "        -0.20878802, -0.17696011],\n",
       "       [ 0.17358896,  1.13034564, -0.82224914, ..., -0.22407904,\n",
       "        -0.20878802, -0.17696011]])"
      ]
     },
     "execution_count": 51,
     "metadata": {},
     "output_type": "execute_result"
    }
   ],
   "source": [
    "x"
   ]
  },
  {
   "cell_type": "code",
   "execution_count": 52,
   "metadata": {},
   "outputs": [],
   "source": [
    "from sklearn.model_selection import train_test_split\n",
    "from sklearn.linear_model import LinearRegression\n",
    "from sklearn.neighbors import KNeighborsRegressor\n",
    "from sklearn.svm import SVR\n",
    "from sklearn.tree import DecisionTreeRegressor\n",
    "from sklearn.ensemble import RandomForestRegressor\n",
    "from sklearn.metrics import make_scorer"
   ]
  },
  {
   "cell_type": "code",
   "execution_count": 53,
   "metadata": {},
   "outputs": [],
   "source": [
    "#Making Root Mean Squared log error for using as metrics for the models.\n",
    "def score(y_pred,y):\n",
    "    y_pred = np.log(y_pred)\n",
    "    y = np.log(y)\n",
    "    return 1 - ((np.sum((y_pred-y)**2))/len(y))**1/2    # 1-RMSLE"
   ]
  },
  {
   "cell_type": "code",
   "execution_count": 54,
   "metadata": {},
   "outputs": [],
   "source": [
    "from sklearn.model_selection import train_test_split\n",
    "x_train,x_test,y_train,y_test = train_test_split(x,y,test_size=0.2,random_state=0)"
   ]
  },
  {
   "cell_type": "code",
   "execution_count": 55,
   "metadata": {},
   "outputs": [],
   "source": [
    "lr_reg=LinearRegression()\n",
    "knn_reg = KNeighborsRegressor()\n",
    "svm_reg = SVR()\n",
    "dt_reg = DecisionTreeRegressor()\n",
    "rf_reg = RandomForestRegressor()"
   ]
  },
  {
   "cell_type": "code",
   "execution_count": 56,
   "metadata": {},
   "outputs": [
    {
     "name": "stdout",
     "output_type": "stream",
     "text": [
      "LinearRegression() 0.7756878113369453\n",
      "KNeighborsRegressor() 0.7734903304347222\n",
      "SVR() 0.7864550982591307\n",
      "DecisionTreeRegressor() 0.6799903761606484\n",
      "RandomForestRegressor() 0.7651371068342953\n"
     ]
    }
   ],
   "source": [
    "for reg in (lr_reg,knn_reg, svm_reg, dt_reg, rf_reg):\n",
    "    reg.fit(x_train, y_train)\n",
    "    \n",
    "    y_pred = reg.predict(x_test)\n",
    "    print(reg, score(y_pred,y_test))"
   ]
  },
  {
   "cell_type": "markdown",
   "metadata": {},
   "source": [
    "As We can see best model to fit is SVR so let us do parameter tuning with grid search"
   ]
  },
  {
   "cell_type": "code",
   "execution_count": 58,
   "metadata": {},
   "outputs": [],
   "source": [
    "from sklearn.model_selection import GridSearchCV\n",
    "from sklearn.model_selection import RandomizedSearchCV"
   ]
  },
  {
   "cell_type": "code",
   "execution_count": 78,
   "metadata": {},
   "outputs": [],
   "source": [
    "param = {'kernel' : ('linear', 'poly', 'rbf'),'C' : [0.1,1,10],'gamma' : ('auto','scale')},\n",
    "\n",
    "modelsvr = SVR()\n",
    "\n",
    "grids = GridSearchCV(modelsvr,param_grid=param,cv=5)"
   ]
  },
  {
   "cell_type": "code",
   "execution_count": 79,
   "metadata": {},
   "outputs": [
    {
     "data": {
      "text/plain": [
       "GridSearchCV(cv=5, estimator=SVR(),\n",
       "             param_grid=({'C': [0.1, 1, 10], 'gamma': ('auto', 'scale'),\n",
       "                          'kernel': ('linear', 'poly', 'rbf')},))"
      ]
     },
     "execution_count": 79,
     "metadata": {},
     "output_type": "execute_result"
    }
   ],
   "source": [
    "grids.fit(x_train,y_train)"
   ]
  },
  {
   "cell_type": "code",
   "execution_count": 82,
   "metadata": {},
   "outputs": [
    {
     "name": "stdout",
     "output_type": "stream",
     "text": [
      "best_score: 0.11150352786858295\n",
      "best_params:\n",
      " {'C': 10, 'gamma': 'auto', 'kernel': 'rbf'}\n"
     ]
    }
   ],
   "source": [
    "print(\"best_score:\",grids.best_score_)\n",
    "print(\"best_params:\\n\",grids.best_params_)"
   ]
  },
  {
   "cell_type": "code",
   "execution_count": 84,
   "metadata": {},
   "outputs": [
    {
     "name": "stdout",
     "output_type": "stream",
     "text": [
      "1-RMSLE: 0.7953388558554348\n"
     ]
    }
   ],
   "source": [
    "predictions = grids.predict(x_test)\n",
    "print(\"1-RMSLE:\",score(predictions, y_test))"
   ]
  },
  {
   "cell_type": "code",
   "execution_count": 89,
   "metadata": {},
   "outputs": [],
   "source": [
    "import pickle\n",
    "filename= 'Doctorsfee.pkl'\n",
    "pickle.dump(grids,open(filename,'wb'))"
   ]
  },
  {
   "cell_type": "code",
   "execution_count": null,
   "metadata": {},
   "outputs": [],
   "source": []
  },
  {
   "cell_type": "code",
   "execution_count": null,
   "metadata": {},
   "outputs": [],
   "source": []
  }
 ],
 "metadata": {
  "kernelspec": {
   "display_name": "Python 3",
   "language": "python",
   "name": "python3"
  },
  "language_info": {
   "codemirror_mode": {
    "name": "ipython",
    "version": 3
   },
   "file_extension": ".py",
   "mimetype": "text/x-python",
   "name": "python",
   "nbconvert_exporter": "python",
   "pygments_lexer": "ipython3",
   "version": "3.8.3"
  }
 },
 "nbformat": 4,
 "nbformat_minor": 4
}
